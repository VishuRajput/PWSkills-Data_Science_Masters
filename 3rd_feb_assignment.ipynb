{
 "cells": [
  {
   "cell_type": "code",
   "execution_count": 4,
   "id": "8e4be4ac",
   "metadata": {},
   "outputs": [
    {
     "data": {
      "text/plain": [
       "[1, 3, 5, 7, 9, 11, 13, 15, 17, 19, 21, 23, 25]"
      ]
     },
     "execution_count": 4,
     "metadata": {},
     "output_type": "execute_result"
    }
   ],
   "source": [
    "#Problem 1\n",
    "\n",
    "#def keyword is used to create a function in python.\n",
    "\n",
    "\n",
    "def odd(l):\n",
    "    l1=[]\n",
    "    for i in l:\n",
    "        if i%2!=0:\n",
    "            l1.append(i)\n",
    "    return l1\n",
    "\n",
    "odd(list(range(1,26)))\n",
    "    \n"
   ]
  },
  {
   "cell_type": "code",
   "execution_count": 8,
   "id": "a7217231",
   "metadata": {},
   "outputs": [
    {
     "name": "stdout",
     "output_type": "stream",
     "text": [
      "9\n",
      "{'vishu': 1, 'chib': 2, 'data': 3} <class 'dict'>\n"
     ]
    }
   ],
   "source": [
    "#Problem 2\n",
    "\n",
    "'''\n",
    "\n",
    "*args - It is used to pass variable number of non keyword arguments to a fucntion.\n",
    "\n",
    "**kwargs - It allows to pass variable number of keyword arguments to a function.\n",
    "\n",
    "'''\n",
    "\n",
    "def add(*args):\n",
    "    tot=0\n",
    "    \n",
    "    for i in args:\n",
    "        tot += i  \n",
    "    print(tot)\n",
    "add(2,3,4)\n",
    "\n",
    "def anything(**kwargs):\n",
    "    \n",
    "    print(kwargs, type(kwargs))\n",
    "\n",
    "\n",
    "anything(vishu=1,chib=2,data=3)\n"
   ]
  },
  {
   "cell_type": "code",
   "execution_count": 7,
   "id": "5ce6d467",
   "metadata": {},
   "outputs": [
    {
     "name": "stdout",
     "output_type": "stream",
     "text": [
      "2 4 6 8 10 "
     ]
    }
   ],
   "source": [
    "#Problem 3\n",
    "\n",
    "'''\n",
    "Iterator is an object which contains countable elements.\n",
    "\n",
    "Iter() - is used to initialize an iterator.\n",
    "\n",
    "Next() - is used for iteration.\n",
    "\n",
    "'''\n",
    "\n",
    "l = list(range(2,21,2))\n",
    "ls = iter(l)\n",
    "\n",
    "for i in range(5):\n",
    "    print(next(ls), end=' ')\n"
   ]
  },
  {
   "cell_type": "code",
   "execution_count": 10,
   "id": "ec8e7e2a",
   "metadata": {},
   "outputs": [
    {
     "name": "stdout",
     "output_type": "stream",
     "text": [
      "0 1 1 2 3 5 8 13 21 34 "
     ]
    }
   ],
   "source": [
    "#Problem 4\n",
    "\n",
    "'''\n",
    "Generator is used to generate an iterator with a sequence of values.\n",
    "\n",
    "Yield is similar to return, helps to return values from function just thing is yield does not exist the function \n",
    "and it give values everytime when function requires.\n",
    "\n",
    "'''\n",
    "\n",
    "def fib(n):\n",
    "    a,b=0,1\n",
    "    for i in range(n):\n",
    "        yield a\n",
    "        a,b=b,a+b\n",
    "        \n",
    "for i in fib(10):\n",
    "    print (i, end=' ') "
   ]
  },
  {
   "cell_type": "code",
   "execution_count": 26,
   "id": "05224c88",
   "metadata": {},
   "outputs": [
    {
     "name": "stdout",
     "output_type": "stream",
     "text": [
      "2 3 5 7 11 13 17 19 23 29 31 37 41 43 47 53 59 61 67 71 "
     ]
    }
   ],
   "source": [
    "#Problem 5\n",
    "\n",
    "def isprime(num):\n",
    "    for i in range(2,num):\n",
    "        if num%i==0:\n",
    "            return False\n",
    "    return True\n",
    "\n",
    "def primegen(n):\n",
    "    num =2\n",
    "    while n:\n",
    "        if isprime(num):\n",
    "            yield num\n",
    "            n-=1\n",
    "        num+=1\n",
    "    return\n",
    "\n",
    "getprimes = primegen(1000)\n",
    "\n",
    "for i in range(20):\n",
    "    print(next(getprimes), end =' ')"
   ]
  },
  {
   "cell_type": "code",
   "execution_count": 6,
   "id": "1ec6c78d",
   "metadata": {},
   "outputs": [
    {
     "name": "stdout",
     "output_type": "stream",
     "text": [
      "0 1 1 2 3 5 8 13 21 34 "
     ]
    }
   ],
   "source": [
    "#Problem 6\n",
    "\n",
    "n=10\n",
    "a,b = 0,1\n",
    "c=0\n",
    "count = 1\n",
    "while(count<=n):\n",
    "    count +=1\n",
    "    print(a, end = ' ')\n",
    "    c= a+b\n",
    "    a=b\n",
    "    b=c\n",
    "    \n",
    "    \n",
    "    "
   ]
  },
  {
   "cell_type": "code",
   "execution_count": 7,
   "id": "cc8ead72",
   "metadata": {},
   "outputs": [
    {
     "name": "stdout",
     "output_type": "stream",
     "text": [
      "['p', 'w', 's', 'k', 'i', 'l', 'l', 's']\n"
     ]
    }
   ],
   "source": [
    "#Problem 7\n",
    "\n",
    "str = 'pwskills'\n",
    "\n",
    "l=[]\n",
    "\n",
    "for i in str:\n",
    "    l.append(i)\n",
    "    \n",
    "    \n",
    "print(l)"
   ]
  },
  {
   "cell_type": "code",
   "execution_count": 4,
   "id": "cded3f8c",
   "metadata": {},
   "outputs": [
    {
     "name": "stdout",
     "output_type": "stream",
     "text": [
      "Enter a number :454\n",
      "It is Palindrome\n"
     ]
    }
   ],
   "source": [
    "#Problem 8\n",
    "\n",
    "n=input('Enter a number :')\n",
    "\n",
    "while True:\n",
    "    if n==n[::-1]:\n",
    "        print('It is Palindrome')\n",
    "        break\n",
    "    else:\n",
    "        print('It is not a palindrome')\n",
    "        break"
   ]
  },
  {
   "cell_type": "code",
   "execution_count": 5,
   "id": "06cfd5f5",
   "metadata": {},
   "outputs": [
    {
     "name": "stdout",
     "output_type": "stream",
     "text": [
      "[1, 3, 5, 7, 9, 11, 13, 15, 17, 19, 21, 23, 25, 27, 29, 31, 33, 35, 37, 39, 41, 43, 45, 47, 49, 51, 53, 55, 57, 59, 61, 63, 65, 67, 69, 71, 73, 75, 77, 79, 81, 83, 85, 87, 89, 91, 93, 95, 97, 99]\n"
     ]
    }
   ],
   "source": [
    "#Problem 9\n",
    "\n",
    "l=list(range(1,100))\n",
    "l1=[]\n",
    "\n",
    "for i in l:\n",
    "    if i%2!=0:\n",
    "        l1.append(i)\n",
    "        \n",
    "print(l1)"
   ]
  },
  {
   "cell_type": "code",
   "execution_count": null,
   "id": "ad137928",
   "metadata": {},
   "outputs": [],
   "source": []
  }
 ],
 "metadata": {
  "kernelspec": {
   "display_name": "Python 3 (ipykernel)",
   "language": "python",
   "name": "python3"
  },
  "language_info": {
   "codemirror_mode": {
    "name": "ipython",
    "version": 3
   },
   "file_extension": ".py",
   "mimetype": "text/x-python",
   "name": "python",
   "nbconvert_exporter": "python",
   "pygments_lexer": "ipython3",
   "version": "3.9.12"
  }
 },
 "nbformat": 4,
 "nbformat_minor": 5
}
