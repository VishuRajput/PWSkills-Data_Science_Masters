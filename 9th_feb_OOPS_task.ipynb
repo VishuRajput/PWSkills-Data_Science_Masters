{
 "cells": [
  {
   "cell_type": "code",
   "execution_count": 1,
   "id": "ca2a2673",
   "metadata": {},
   "outputs": [],
   "source": [
    "#Problem 1\n",
    "\n",
    "class Vehicle:\n",
    "    def __init__(self,name,speed,average):\n",
    "        self.name_of_vehicle=name\n",
    "        self.max_speed=speed\n",
    "        self.average_of_vehicle=average"
   ]
  },
  {
   "cell_type": "code",
   "execution_count": 20,
   "id": "eca8b329",
   "metadata": {},
   "outputs": [
    {
     "data": {
      "text/plain": [
       "('alto', 5)"
      ]
     },
     "execution_count": 20,
     "metadata": {},
     "output_type": "execute_result"
    }
   ],
   "source": [
    "#Problem 2\n",
    "\n",
    "class Car(Vehicle):\n",
    "   \n",
    "    def seating_capacity(self,capacity):\n",
    "        self.seating_cap=capacity\n",
    "        return self.name_of_vehicle,self.seating_cap,\n",
    "        \n",
    "car_1=Car('alto',45,19)\n",
    "car_1.seating_capacity(5)"
   ]
  },
  {
   "cell_type": "code",
   "execution_count": 23,
   "id": "c65dafb4",
   "metadata": {},
   "outputs": [
    {
     "data": {
      "text/plain": [
       "'This is Class 01'"
      ]
     },
     "execution_count": 23,
     "metadata": {},
     "output_type": "execute_result"
    }
   ],
   "source": [
    "#Problem 3\n",
    "\n",
    "#Multiple inheritance means that a subclass can inherit from two or more superclasses.\n",
    "\n",
    "class class01:\n",
    "    \n",
    "    def test_class01(self):\n",
    "        return 'This is Class 01'\n",
    "class class02:\n",
    "    \n",
    "    def test_class02(self):\n",
    "        return 'This is Class 02'\n",
    "class class03(class01,class02):\n",
    "    pass\n",
    "child_class03=class03()\n",
    "child_class03.test_class01()\n",
    "\n",
    "\n"
   ]
  },
  {
   "cell_type": "code",
   "execution_count": 24,
   "id": "41a9adf5",
   "metadata": {},
   "outputs": [
    {
     "data": {
      "text/plain": [
       "'This is Class 02'"
      ]
     },
     "execution_count": 24,
     "metadata": {},
     "output_type": "execute_result"
    }
   ],
   "source": [
    "child_class03.test_class02()"
   ]
  },
  {
   "cell_type": "code",
   "execution_count": 25,
   "id": "8f754026",
   "metadata": {},
   "outputs": [
    {
     "data": {
      "text/plain": [
       "7488"
      ]
     },
     "execution_count": 25,
     "metadata": {},
     "output_type": "execute_result"
    }
   ],
   "source": [
    "#Problem 4\n",
    "\n",
    "#We use getters & setters to add validation logic around getting and setting a value.\n",
    "#To avoid direct access of a class field i.e. private variables cannot be accessed directly or modified by external user.\n",
    "\n",
    "class car:\n",
    "    def __init__(self, year, make,model,speed):\n",
    "        self.__year=year\n",
    "        self.__make=make\n",
    "        self.__model=model\n",
    "        self.__speed=0\n",
    "        \n",
    "    def set_speed(self,speed):\n",
    "        self.__speed=0 if speed<0 else speed\n",
    "        \n",
    "    def get_speed(self):\n",
    "        return self.__speed\n",
    "c=car(2021, 'Tata', 'Nexon', 12)\n",
    "c.set_speed(7488)\n",
    "c.get_speed()"
   ]
  },
  {
   "cell_type": "code",
   "execution_count": 27,
   "id": "94ad6cdc",
   "metadata": {},
   "outputs": [
    {
     "ename": "SyntaxError",
     "evalue": "invalid syntax (3944559765.py, line 3)",
     "output_type": "error",
     "traceback": [
      "\u001b[1;36m  Input \u001b[1;32mIn [27]\u001b[1;36m\u001b[0m\n\u001b[1;33m    ***\u001b[0m\n\u001b[1;37m    ^\u001b[0m\n\u001b[1;31mSyntaxError\u001b[0m\u001b[1;31m:\u001b[0m invalid syntax\n"
     ]
    }
   ],
   "source": [
    "#Problem 5\n",
    "\n",
    "\"\"\"\n",
    "Method overriding in Python is when you have two methods with the same name that each perform different tasks.\n",
    "This is an important feature of inheritance in Python.\n",
    "Also used in encapsulation.\n",
    "\n",
    "\"\"\"\n",
    "\n"
   ]
  },
  {
   "cell_type": "code",
   "execution_count": null,
   "id": "4234d01b",
   "metadata": {},
   "outputs": [],
   "source": []
  }
 ],
 "metadata": {
  "kernelspec": {
   "display_name": "Python 3 (ipykernel)",
   "language": "python",
   "name": "python3"
  },
  "language_info": {
   "codemirror_mode": {
    "name": "ipython",
    "version": 3
   },
   "file_extension": ".py",
   "mimetype": "text/x-python",
   "name": "python",
   "nbconvert_exporter": "python",
   "pygments_lexer": "ipython3",
   "version": "3.9.12"
  }
 },
 "nbformat": 4,
 "nbformat_minor": 5
}
