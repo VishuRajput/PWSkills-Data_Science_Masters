{
 "cells": [
  {
   "cell_type": "markdown",
   "id": "2be92da0",
   "metadata": {},
   "source": [
    "Problem 1\n",
    "\n",
    "Abstraction is one of the key concepts of object-oriented programming (OOP) languages. Its main goal is to handle complexity by hiding unnecessary details from the user. That enables the user to implement more complex logic on top of the provided abstraction without understanding or even thinking about all the hidden complexity.\n",
    "\n",
    "Example:\n",
    "\n",
    "You can start a car by turning the key or pressing the start button. You don't need to know how the engine is getting started, what all components your car has. The car internal implementation and complex logic is completely hidden from the user"
   ]
  },
  {
   "cell_type": "markdown",
   "id": "b411e673",
   "metadata": {},
   "source": [
    "Problem 2\n",
    "\n",
    "Abstraction\t\t\t\t\t\t                            Encapsulation\n",
    "Abstraction is a feature of OOPs that hides the             Encapsulation is also a feature of OOPs. It hides the code and data unnecessary detail but shows the essential information.     into a single entity or unit so that the data can be protected from                                                             the outside world.\n",
    "\t\t\n",
    "It solves an issue at the design level.\t\t\t\t        Encapsulation solves an issue at implementation level.\n",
    "It focuses on the external lookout.\t\t\t\t            It focuses on internal working.\n",
    "It can be implemented using abstract classes and \n",
    "interfaces.\t\t\t\t\t\t\t                        It can be implemented by using the access modifiers (private, public, protected).\n",
    "It is the process of gaining information.\t\t\t        It is the process of containing the information.\n",
    "In abstraction, we use abstract classes and interfaces\n",
    "to hide the code complexities.\t\t\t\t\t            We use the getters and setters methods to hide the data.\n",
    "The objects are encapsulated that helps to perform \n",
    "abstraction.\t\t\t\t\t\t\t                    The object need not to abstract that result in encapsulation.\n",
    "\n",
    "Ex: Starting a car                                          Ex: School Bag"
   ]
  },
  {
   "cell_type": "markdown",
   "id": "abbeb4ea",
   "metadata": {},
   "source": [
    "Problem 3\n",
    "\n",
    "The main goal of the abstract base class is to provide a standardized way to test whether an object adheres to a given specification. It can also prevent any attempt to instantiate a subclass that doesn’t override a particular method in the superclass. And finally, using an abstract class, a class can derive identity from another class without any object inheritance.\n",
    "\n",
    "An abstract class is mostly used to provide a base for subclasses to extend and implement the abstract methods and override or use the implemented methods in abstract class.\n"
   ]
  },
  {
   "cell_type": "markdown",
   "id": "0cc7dd72",
   "metadata": {},
   "source": [
    "Problem 4\n",
    "\n",
    "Data abstraction is a method where essential elements are displayed to the user and trivial elements are kept hidden. In Java, abstraction is achieved by using the abstract keyword for classes and interfaces. In abstract classes, we can have abstract methods as well as concrete methods."
   ]
  },
  {
   "cell_type": "markdown",
   "id": "4a68fd1e",
   "metadata": {},
   "source": [
    "Problem 5\n",
    "\n",
    "No, you cannot instantiate an abstract class in Java because it is abstract, it is not complete hence it cannot be used. \n",
    "\n",
    "When you create an instance of a class, its's constructor is called, and even though abstract class can have a constructor, the compiler will not allow you to create an instance of the class. It's a compile-time error to create an instance of an abstract class in Python."
   ]
  }
 ],
 "metadata": {
  "kernelspec": {
   "display_name": "Python 3 (ipykernel)",
   "language": "python",
   "name": "python3"
  },
  "language_info": {
   "codemirror_mode": {
    "name": "ipython",
    "version": 3
   },
   "file_extension": ".py",
   "mimetype": "text/x-python",
   "name": "python",
   "nbconvert_exporter": "python",
   "pygments_lexer": "ipython3",
   "version": "3.9.12"
  }
 },
 "nbformat": 4,
 "nbformat_minor": 5
}
