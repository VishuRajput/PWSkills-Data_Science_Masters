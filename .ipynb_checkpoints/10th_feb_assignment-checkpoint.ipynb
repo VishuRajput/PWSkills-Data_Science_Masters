{
 "cells": [
  {
   "cell_type": "markdown",
   "id": "ac25bfad",
   "metadata": {},
   "source": [
    "#Problem 1\n",
    "\n",
    "\n",
    "You can open files using the open() method.\n",
    "\n",
    "The open() function in Python accepts two arguments. The first one is the file name along with the complete path and the second one is the file open mode.\n",
    "\n",
    "Modes:\n",
    "\n",
    "‘r’ : This mode indicate that file will be open for reading only\n",
    "‘w’ : This mode indicate that file will be open for writing only. If file containing containing that name does not exists, it will create a new one\n",
    "‘a’ : This mode indicate that the output of that program will be append to the previous output of that file\n",
    "‘r+’ : This mode indicate that file will be open for both reading and writing"
   ]
  },
  {
   "cell_type": "markdown",
   "id": "d873bb70",
   "metadata": {},
   "source": [
    "#Problem 2\n",
    "\n",
    "Close is used to close a file which is currently being used to read and write.\n",
    "\n",
    "It is important to close a file to protect the data against hard debug and also saves the memory being used to operate on file."
   ]
  },
  {
   "cell_type": "code",
   "execution_count": 3,
   "id": "31643bed",
   "metadata": {},
   "outputs": [
    {
     "name": "stdout",
     "output_type": "stream",
     "text": [
      "I want to become a Data Scientist\n"
     ]
    }
   ],
   "source": [
    "#Problem 3\n",
    "\n",
    "import logging\n",
    "\n",
    "logging.basicConfig(filename = 'assignment.log', level=logging.DEBUG, format= '%(asctime)s %(message)s')\n",
    "with open ('assignment.txt', 'w') as f:\n",
    "    logging.info('Opening a file named {s} in write mode'.format(s='assignment.txt'))\n",
    "    f.write('I want to become a Data Scientist')\n",
    "    logging.info('Writing data into the file')\n",
    "\n",
    "\n",
    "with open ('assignment.txt', 'r') as f:\n",
    "    logging.info('Opening the file again in read mode')\n",
    "    print(f.read())\n",
    "    logging.info('reading and printing the data from file')"
   ]
  },
  {
   "cell_type": "markdown",
   "id": "97b4ccbc",
   "metadata": {},
   "source": [
    "#Problem 4\n",
    "\n",
    "read() - returns read bytes as string output.\n",
    "readline() - returns each line as string output.\n",
    "readlines() - returns entire contents as list of string output."
   ]
  },
  {
   "cell_type": "markdown",
   "id": "88e6526c",
   "metadata": {},
   "source": [
    "#Problem 5\n",
    "With helps to write clean codes to open and work on the file.\n",
    "\n",
    "With is used with open so that there is no need to close the file abruptly and as soon as you leave the block, it closes the file automatically. This is the main advantage of it.\n",
    "\n"
   ]
  },
  {
   "cell_type": "code",
   "execution_count": 4,
   "id": "aa3c1b57",
   "metadata": {},
   "outputs": [
    {
     "name": "stdout",
     "output_type": "stream",
     "text": [
      "Enter the name of the employee: Vishu\n",
      "Enter the name of the employee: Chib\n",
      "Enter the name of the employee: Subh\n",
      "Data is written into the file.\n"
     ]
    }
   ],
   "source": [
    "#Problem 6\n",
    "\n",
    "#Write() - it is used to write to a file once with adding anything extra.\n",
    "#Writelines() - Is used to write list of characters into the file.\n",
    "\n",
    "#Example:\n",
    "\n",
    "file = open(\"Employees.txt\", \"w\")\n",
    "  \n",
    "for i in range(3):\n",
    "   name = input(\"Enter the name of the employee: \")\n",
    "   file.write(name)\n",
    "   file.write(\"\\n\")\n",
    "     \n",
    "file.close()\n",
    "  \n",
    "print(\"Data is written into the file.\")\n",
    "\n"
   ]
  },
  {
   "cell_type": "code",
   "execution_count": 5,
   "id": "cbf76bf2",
   "metadata": {},
   "outputs": [
    {
     "name": "stdout",
     "output_type": "stream",
     "text": [
      "Enter the name of the employee: Vishu\n",
      "Enter the name of the employee: Chib\n",
      "Enter the name of the employee: Subh\n",
      "Data is written into the file.\n"
     ]
    }
   ],
   "source": [
    "file1 = open(\"Employees.txt\", \"w\")\n",
    "lst = []\n",
    "for i in range(3):\n",
    "    name = input(\"Enter the name of the employee: \")\n",
    "    lst.append(name + '\\n')\n",
    "      \n",
    "file1.writelines(lst)\n",
    "file1.close()\n",
    "print(\"Data is written into the file.\") \n"
   ]
  },
  {
   "cell_type": "code",
   "execution_count": null,
   "id": "1fdf716f",
   "metadata": {},
   "outputs": [],
   "source": []
  }
 ],
 "metadata": {
  "kernelspec": {
   "display_name": "Python 3 (ipykernel)",
   "language": "python",
   "name": "python3"
  },
  "language_info": {
   "codemirror_mode": {
    "name": "ipython",
    "version": 3
   },
   "file_extension": ".py",
   "mimetype": "text/x-python",
   "name": "python",
   "nbconvert_exporter": "python",
   "pygments_lexer": "ipython3",
   "version": "3.9.12"
  }
 },
 "nbformat": 4,
 "nbformat_minor": 5
}
