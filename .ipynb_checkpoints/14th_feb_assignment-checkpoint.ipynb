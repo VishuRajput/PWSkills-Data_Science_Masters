{
 "cells": [
  {
   "cell_type": "markdown",
   "id": "7a9c09c0",
   "metadata": {},
   "source": [
    "#Problem 1\n",
    "\n",
    "Multithreading refers to concurrently executing multiple threads by rapidly switching the control of the CPU between threads (called context switching). The Python Global Interpreter Lock limits one thread to run at a time even if the machine contains multiple processors.​\n",
    "\n",
    "It enables efficient utilization of the resources as the threads share the data space and memory. Multithreading in Python allows the concurrent and parallel occurrence of various tasks. It causes a reduction in time consumption or response time, thereby increasing the performance.\n",
    "\n",
    "activeCount() − Returns the number of thread objects that are active.\n",
    "currentThread() − Returns the number of thread objects in the caller's thread control.\n",
    "enumerate() − Returns a list of all thread objects that are currently active.\n"
   ]
  },
  {
   "cell_type": "markdown",
   "id": "c0148642",
   "metadata": {},
   "source": [
    "#Problem 2\n",
    "Threading module is used to handle multiple threads.\n",
    "\n",
    "activeCount() − Returns the number of thread objects that are active. \n",
    "currentThread() − Returns the number of thread objects in the caller's thread control. \n",
    "enumerate() − Returns a list of all thread objects that are currently active."
   ]
  },
  {
   "cell_type": "markdown",
   "id": "79678917",
   "metadata": {},
   "source": [
    "#Problem 3\n",
    "\n",
    "run() - This method is used to represent a thread's activity.\n",
    "start() - It is used to start a thread's activity. This method calls the run() method internally which then executes the target method. This method must be called at most one time for one thread.\n",
    "join() - It delays a program's flow of execution until the target thread has been completely read.\n",
    "isAlive() - It uses a Thread object, and checks whether that thread is alive or not, ie, it is still running or not. This method returns True before the run() starts until just after the run() method is executed."
   ]
  },
  {
   "cell_type": "code",
   "execution_count": 21,
   "id": "e393fd75",
   "metadata": {},
   "outputs": [
    {
     "name": "stdout",
     "output_type": "stream",
     "text": [
      "Square of 0 is 0\n",
      "Square of 1 is 1\n",
      "Square of 2 is 4\n",
      "Square of 3 is 9\n",
      "Square of 4 is 16\n",
      "Cube of 2 is 8Cube of 4 is 64\n",
      "\n",
      "Cube of 3 is 27\n",
      "Cube of 0 is 0\n",
      "Cube of 1 is 1\n"
     ]
    }
   ],
   "source": [
    "#Problem 4\n",
    "\n",
    "import threading\n",
    "import time\n",
    "\n",
    "\n",
    "def squares(num):\n",
    "    print('Square of %d is %d' %(num, num*num))\n",
    "    time.sleep(1)\n",
    "    print('Cube of %d is %d' %(num, num*num*num))\n",
    "    \n",
    "#def cubes(num):\n",
    "    #print('Cube of %d is %d' %(num, num*num*num))\n",
    "    #time.sleep(1)\n",
    "    \n",
    "t1=[threading.Thread(target= squares, args=(i,)) for i in range(5)]\n",
    "#t2=[threading.Thread(target= cubes, args=(i,)) for i in range(1,4)]\n",
    "\n",
    "for t in t1:\n",
    "    t.start()\n",
    "    \n",
    "#for t in t2:\n",
    "    #t.start()"
   ]
  },
  {
   "cell_type": "markdown",
   "id": "6fb935a8",
   "metadata": {},
   "source": [
    "#Problem 5\n",
    "\n",
    "Advantages:\n",
    "\n",
    "-Enhanced performance by decreased development time\n",
    "-Simplified and streamlined program coding\n",
    "-Improvised GUI responsiveness\n",
    "-Simultaneous and parallelized occurrence of tasks\n",
    "-Better use of cache storage by utilization of resources\n",
    "-Decreased cost of maintenance\n",
    "-Better use of CPU resource\n",
    "\n",
    "Disadvantages:\n",
    "    \n",
    "-Complex debugging and testing processes\n",
    "-Overhead switching of context\n",
    "-Increased potential for deadlock occurrence\n",
    "-Increased difficulty level in writing a program\n",
    "-Unpredictable results"
   ]
  },
  {
   "cell_type": "markdown",
   "id": "9c46b8c5",
   "metadata": {},
   "source": [
    "#Problem 6\n",
    "\n",
    "A deadlock is a concurrency failure mode where a thread or threads wait for a condition that never occurs. The result is that the deadlock threads are unable to progress and the program is stuck or frozen and must be terminated forcefully.\n",
    "\n",
    "A deadlock is a concurrency failure mode where a thread or threads wait for a condition that never occurs. The result is that the deadlock threads are unable to progress and the program is stuck or frozen and must be terminated forcefully."
   ]
  },
  {
   "cell_type": "code",
   "execution_count": null,
   "id": "27eb7c47",
   "metadata": {},
   "outputs": [],
   "source": []
  }
 ],
 "metadata": {
  "kernelspec": {
   "display_name": "Python 3 (ipykernel)",
   "language": "python",
   "name": "python3"
  },
  "language_info": {
   "codemirror_mode": {
    "name": "ipython",
    "version": 3
   },
   "file_extension": ".py",
   "mimetype": "text/x-python",
   "name": "python",
   "nbconvert_exporter": "python",
   "pygments_lexer": "ipython3",
   "version": "3.9.12"
  }
 },
 "nbformat": 4,
 "nbformat_minor": 5
}
