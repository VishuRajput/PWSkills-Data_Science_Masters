{
 "cells": [
  {
   "cell_type": "code",
   "execution_count": 6,
   "id": "ea2e584a",
   "metadata": {},
   "outputs": [
    {
     "name": "stdout",
     "output_type": "stream",
     "text": [
      "Enter the Password :RajpuT@1!2#3\n",
      "Valid Password\n"
     ]
    }
   ],
   "source": [
    "#Problem 1\n",
    "\n",
    "spc_char=['~','`','!','@','#','$','%','^','&','*','(',')','_','-','+','=','/','.','|',']','[','{','}',';',':','<','>','?']\n",
    "password=input('Enter the Password :')\n",
    "\n",
    "count_lower=0\n",
    "count_upper=0\n",
    "count_spc=0\n",
    "count_num=0\n",
    "\n",
    "for i in password:\n",
    "    if i in spc_char:\n",
    "        count_spc += 1\n",
    "    elif i.isupper():\n",
    "        count_upper += 1\n",
    "    elif i.islower():\n",
    "        count_lower += 1\n",
    "    elif i.isalnum():\n",
    "        count_num += 1\n",
    "\n",
    "if len(password)>=10 and count_lower>=2 and count_upper>=2 and count_spc>=3 and count_num>=1 :\n",
    "    print('Valid Password')\n",
    "else:\n",
    "    print('Invalid Password')"
   ]
  },
  {
   "cell_type": "code",
   "execution_count": 15,
   "id": "23786ca7",
   "metadata": {},
   "outputs": [
    {
     "name": "stdout",
     "output_type": "stream",
     "text": [
      "Enter a string Skills\n",
      "String starts with correct letter \n"
     ]
    }
   ],
   "source": [
    "#Problem 2\n",
    "#Part 1\n",
    "\n",
    "s=input('Enter a string ')\n",
    "l=list(s)\n",
    "for i in l:\n",
    "    if i=='s':\n",
    "        print('String starts with correct letter ')"
   ]
  },
  {
   "cell_type": "code",
   "execution_count": 18,
   "id": "14f4ccf3",
   "metadata": {},
   "outputs": [
    {
     "name": "stdout",
     "output_type": "stream",
     "text": [
      "Enter a string 47585\n",
      "Given string is numeric\n"
     ]
    }
   ],
   "source": [
    "#Part 2\n",
    "\n",
    "s=input('Enter a string ')\n",
    "\n",
    "check=lambda s:s.isalnum()\n",
    "\n",
    "if check(s):\n",
    "    print('Given string is numeric')\n"
   ]
  },
  {
   "cell_type": "code",
   "execution_count": 19,
   "id": "de9f6cb5",
   "metadata": {},
   "outputs": [
    {
     "data": {
      "text/plain": [
       "[('orange', 80), ('mango', 99), ('grapes', 1000)]"
      ]
     },
     "execution_count": 19,
     "metadata": {},
     "output_type": "execute_result"
    }
   ],
   "source": [
    "#Part 3\n",
    "\n",
    "l=[('mango',99),('orange',80),('grapes',1000)]\n",
    "\n",
    "l.sort(key = lambda x:x[1])\n",
    "\n",
    "l"
   ]
  },
  {
   "cell_type": "code",
   "execution_count": 28,
   "id": "e99542dc",
   "metadata": {},
   "outputs": [
    {
     "data": {
      "text/plain": [
       "[1, 4, 9, 16, 25, 36, 49, 64, 81, 100]"
      ]
     },
     "execution_count": 28,
     "metadata": {},
     "output_type": "execute_result"
    }
   ],
   "source": [
    "#Part 4\n",
    "\n",
    "l=list(range(1,11))\n",
    "\n",
    "[i**2 for i in l]"
   ]
  },
  {
   "cell_type": "code",
   "execution_count": 29,
   "id": "fe32c8d2",
   "metadata": {},
   "outputs": [
    {
     "data": {
      "text/plain": [
       "[1.0,\n",
       " 1.2599210498948732,\n",
       " 1.4422495703074083,\n",
       " 1.5874010519681994,\n",
       " 1.7099759466766968,\n",
       " 1.8171205928321397,\n",
       " 1.912931182772389,\n",
       " 2.0,\n",
       " 2.080083823051904,\n",
       " 2.154434690031884]"
      ]
     },
     "execution_count": 29,
     "metadata": {},
     "output_type": "execute_result"
    }
   ],
   "source": [
    "#Part 5\n",
    "\n",
    "l=list(range(1,11))\n",
    "\n",
    "[i**(1/3) for i in l]"
   ]
  },
  {
   "cell_type": "code",
   "execution_count": 34,
   "id": "5911de54",
   "metadata": {},
   "outputs": [
    {
     "name": "stdout",
     "output_type": "stream",
     "text": [
      "Enter a number 64\n",
      "It is even.\n"
     ]
    }
   ],
   "source": [
    "#Part 6\n",
    "\n",
    "n=int(input('Enter a number '))\n",
    "\n",
    "check = lambda x:x%2==0\n",
    "\n",
    "if check(n):\n",
    "    print('It is even.')"
   ]
  },
  {
   "cell_type": "code",
   "execution_count": 42,
   "id": "187b3f8e",
   "metadata": {},
   "outputs": [
    {
     "data": {
      "text/plain": [
       "[1, 3, 5, 7, 9]"
      ]
     },
     "execution_count": 42,
     "metadata": {},
     "output_type": "execute_result"
    }
   ],
   "source": [
    "#Part 7\n",
    "\n",
    "l=list(range(1,11))\n",
    "\n",
    "list(filter(lambda x:x%2!=0, l))\n",
    "\n"
   ]
  },
  {
   "cell_type": "code",
   "execution_count": 45,
   "id": "1e97229f",
   "metadata": {},
   "outputs": [
    {
     "name": "stdout",
     "output_type": "stream",
     "text": [
      "Positive integer list : [1, 2, 3, 4, 5, 6]\n",
      "Negative integer list : [-1, -2, -3, -4, -5]\n"
     ]
    }
   ],
   "source": [
    "#Part 8\n",
    "\n",
    "l=[1,2,3,4,5,6,-1,-2,-3,-4,-5,0]\n",
    "\n",
    "pos_lst=[]\n",
    "neg_lst=[]\n",
    "\n",
    "for i in l:\n",
    "    if i >0:\n",
    "        pos_lst.append(i)\n",
    "    elif i <0:\n",
    "        neg_lst.append(i)\n",
    "        \n",
    "print('Positive integer list :',pos_lst)\n",
    "print('Negative integer list :',neg_lst)"
   ]
  },
  {
   "cell_type": "code",
   "execution_count": null,
   "id": "b3f186d7",
   "metadata": {},
   "outputs": [],
   "source": []
  }
 ],
 "metadata": {
  "kernelspec": {
   "display_name": "Python 3 (ipykernel)",
   "language": "python",
   "name": "python3"
  },
  "language_info": {
   "codemirror_mode": {
    "name": "ipython",
    "version": 3
   },
   "file_extension": ".py",
   "mimetype": "text/x-python",
   "name": "python",
   "nbconvert_exporter": "python",
   "pygments_lexer": "ipython3",
   "version": "3.9.12"
  }
 },
 "nbformat": 4,
 "nbformat_minor": 5
}
