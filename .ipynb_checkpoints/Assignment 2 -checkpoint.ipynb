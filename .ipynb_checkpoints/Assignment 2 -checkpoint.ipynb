{
 "cells": [
  {
   "cell_type": "code",
   "execution_count": 12,
   "id": "62ed3284",
   "metadata": {},
   "outputs": [
    {
     "name": "stdout",
     "output_type": "stream",
     "text": [
      "Enter Marks : 67\n",
      "Grade is C\n"
     ]
    }
   ],
   "source": [
    "#Problem 1\n",
    "\n",
    "n = int(input('Enter Marks : '))\n",
    "if n>90:\n",
    "    print('Garde is A')\n",
    "elif n>80 and n<=90:\n",
    "    print('Grade is B')\n",
    "elif n>=60 and n<=80:\n",
    "    print('Grade is C')\n",
    "else:\n",
    "    print('Grade is D')"
   ]
  },
  {
   "cell_type": "code",
   "execution_count": 1,
   "id": "d8e9dd96",
   "metadata": {},
   "outputs": [
    {
     "name": "stdout",
     "output_type": "stream",
     "text": [
      "Enter Cost : 56000\n",
      "Road tax to be paid is  5600.0\n"
     ]
    }
   ],
   "source": [
    "#Problem 2\n",
    "\n",
    "x = int(input('Enter Cost : '))\n",
    "tax = 0\n",
    "if x >100000:\n",
    "    tax = x*15/100\n",
    "elif x>50000 and x<=100000:\n",
    "    tax = x*10/100\n",
    "else :\n",
    "    tax = x*5/100\n",
    "    \n",
    "print('Road tax to be paid is ',tax)"
   ]
  },
  {
   "cell_type": "code",
   "execution_count": 2,
   "id": "14a7a603",
   "metadata": {},
   "outputs": [
    {
     "name": "stdout",
     "output_type": "stream",
     "text": [
      "Enter City : Delhi\n",
      "Monument is Red Fort\n"
     ]
    }
   ],
   "source": [
    "#Problem 3\n",
    "\n",
    "x = str(input('Enter City : '))\n",
    "x=x.title()\n",
    "if x == 'Delhi':\n",
    "    print('Monument is Red Fort')\n",
    "elif x == 'Agra':\n",
    "    print('Monument is Taj Mahal')\n",
    "elif x == 'Jaipur':\n",
    "    print('Monument is Jal Mahal')\n",
    "else :\n",
    "    print('Monument is not known')"
   ]
  },
  {
   "cell_type": "code",
   "execution_count": 4,
   "id": "d0744d78",
   "metadata": {},
   "outputs": [
    {
     "name": "stdout",
     "output_type": "stream",
     "text": [
      "Enter Number : 54637\n",
      "54637 is divisible by 8 times.\n"
     ]
    }
   ],
   "source": [
    "#Problem 4\n",
    "\n",
    "x = int(input('Enter Number : '))\n",
    "count = 0\n",
    "res=0\n",
    "n=x\n",
    "while True:\n",
    "    res= x//3\n",
    "    count += 1\n",
    "    x=res\n",
    "    if res <=10:\n",
    "        break\n",
    "    \n",
    "print(n, 'is divisible by',count , 'times.')"
   ]
  },
  {
   "cell_type": "code",
   "execution_count": 5,
   "id": "f03c10e8",
   "metadata": {},
   "outputs": [],
   "source": [
    "#Problem 5"
   ]
  },
  {
   "cell_type": "code",
   "execution_count": null,
   "id": "a15b2323",
   "metadata": {},
   "outputs": [],
   "source": [
    "#Problem 6"
   ]
  },
  {
   "cell_type": "code",
   "execution_count": 9,
   "id": "4e08249a",
   "metadata": {},
   "outputs": [
    {
     "name": "stdout",
     "output_type": "stream",
     "text": [
      "10\n",
      "9\n",
      "8\n",
      "7\n",
      "6\n",
      "5\n",
      "4\n",
      "3\n",
      "2\n",
      "1\n"
     ]
    }
   ],
   "source": [
    "#Problem 7 \n",
    "\n",
    "n=10\n",
    "while n>0:\n",
    "    print(n)\n",
    "    n-=1"
   ]
  },
  {
   "cell_type": "code",
   "execution_count": null,
   "id": "f2a6e39d",
   "metadata": {},
   "outputs": [],
   "source": []
  }
 ],
 "metadata": {
  "kernelspec": {
   "display_name": "Python 3 (ipykernel)",
   "language": "python",
   "name": "python3"
  },
  "language_info": {
   "codemirror_mode": {
    "name": "ipython",
    "version": 3
   },
   "file_extension": ".py",
   "mimetype": "text/x-python",
   "name": "python",
   "nbconvert_exporter": "python",
   "pygments_lexer": "ipython3",
   "version": "3.9.12"
  }
 },
 "nbformat": 4,
 "nbformat_minor": 5
}
