{
 "cells": [
  {
   "cell_type": "code",
   "execution_count": 6,
   "id": "878153ea",
   "metadata": {},
   "outputs": [
    {
     "name": "stdout",
     "output_type": "stream",
     "text": [
      "[('Virat Kohli', 24936), ('Jack Kallis', 25534), ('Ricky Ponting', 27483), ('Sachin Tendulkar', 34357)]\n"
     ]
    }
   ],
   "source": [
    "#Problem 1\n",
    "\n",
    "l=[('Sachin Tendulkar',34357),('Ricky Ponting',27483),('Jack Kallis',25534),('Virat Kohli',24936)]\n",
    "\n",
    "l.sort(key=lambda x:x[1])\n",
    "print(l)"
   ]
  },
  {
   "cell_type": "code",
   "execution_count": 7,
   "id": "e601d41e",
   "metadata": {},
   "outputs": [
    {
     "data": {
      "text/plain": [
       "[1, 4, 9, 16, 25, 36, 49, 64, 81, 100]"
      ]
     },
     "execution_count": 7,
     "metadata": {},
     "output_type": "execute_result"
    }
   ],
   "source": [
    "#Problem 2\n",
    "\n",
    "l=list(range(1,11))\n",
    "\n",
    "list(map(lambda x:x**2, l))"
   ]
  },
  {
   "cell_type": "code",
   "execution_count": 8,
   "id": "78b38c24",
   "metadata": {},
   "outputs": [
    {
     "data": {
      "text/plain": [
       "('1', '2', '3', '4', '5', '6', '7', '8', '9', '10')"
      ]
     },
     "execution_count": 8,
     "metadata": {},
     "output_type": "execute_result"
    }
   ],
   "source": [
    "#Problem 3\n",
    "\n",
    "l=list(range(1,11))\n",
    "\n",
    "tuple(map(lambda x:str(x), l))"
   ]
  },
  {
   "cell_type": "code",
   "execution_count": 12,
   "id": "6bfd479a",
   "metadata": {},
   "outputs": [
    {
     "data": {
      "text/plain": [
       "620448401733239439360000"
      ]
     },
     "execution_count": 12,
     "metadata": {},
     "output_type": "execute_result"
    }
   ],
   "source": [
    "#Problem 4\n",
    "\n",
    "from functools import reduce\n",
    "\n",
    "l=list(range(1,25))\n",
    "\n",
    "reduce(lambda x,y:x*y, l)"
   ]
  },
  {
   "cell_type": "code",
   "execution_count": 13,
   "id": "57029044",
   "metadata": {},
   "outputs": [
    {
     "data": {
      "text/plain": [
       "[6, 60, 90, 120]"
      ]
     },
     "execution_count": 13,
     "metadata": {},
     "output_type": "execute_result"
    }
   ],
   "source": [
    "#Problem 5\n",
    "\n",
    "l=[2,3,6,9,27,60,90,120,55,46]\n",
    "\n",
    "list(filter(lambda x:(x%2==0 and x%3==0), l))"
   ]
  },
  {
   "cell_type": "code",
   "execution_count": 17,
   "id": "50809ad3",
   "metadata": {},
   "outputs": [
    {
     "data": {
      "text/plain": [
       "['php', 'radar', 'level']"
      ]
     },
     "execution_count": 17,
     "metadata": {},
     "output_type": "execute_result"
    }
   ],
   "source": [
    "#Problem 6\n",
    "\n",
    "l=['python','php','radar','level']\n",
    "\n",
    "\n",
    "list(filter(lambda x:(x==x[::-1]), l))"
   ]
  },
  {
   "cell_type": "code",
   "execution_count": null,
   "id": "6f849875",
   "metadata": {},
   "outputs": [],
   "source": []
  }
 ],
 "metadata": {
  "kernelspec": {
   "display_name": "Python 3 (ipykernel)",
   "language": "python",
   "name": "python3"
  },
  "language_info": {
   "codemirror_mode": {
    "name": "ipython",
    "version": 3
   },
   "file_extension": ".py",
   "mimetype": "text/x-python",
   "name": "python",
   "nbconvert_exporter": "python",
   "pygments_lexer": "ipython3",
   "version": "3.9.12"
  }
 },
 "nbformat": 4,
 "nbformat_minor": 5
}
