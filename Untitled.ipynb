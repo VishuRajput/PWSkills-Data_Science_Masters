{
 "cells": [
  {
   "cell_type": "code",
   "execution_count": 8,
   "id": "ecaad0fc",
   "metadata": {},
   "outputs": [
    {
     "name": "stdout",
     "output_type": "stream",
     "text": [
      "66\n"
     ]
    }
   ],
   "source": [
    "print(ord('A')+1)"
   ]
  },
  {
   "cell_type": "code",
   "execution_count": 11,
   "id": "9c7354ed",
   "metadata": {},
   "outputs": [
    {
     "name": "stdout",
     "output_type": "stream",
     "text": [
      "z\n"
     ]
    }
   ],
   "source": [
    "print(chr(97+25))"
   ]
  },
  {
   "cell_type": "code",
   "execution_count": 17,
   "id": "6e5e399d",
   "metadata": {},
   "outputs": [
    {
     "name": "stdout",
     "output_type": "stream",
     "text": [
      "2\n",
      "x\n"
     ]
    }
   ],
   "source": [
    "alpha = []\n",
    "\n",
    "for i in range(97,123):\n",
    "    alpha.append(chr(i))\n",
    "\n",
    "str='vishu'\n",
    "l=[]\n",
    "for i in str:\n",
    "    l.append(ord(i))\n",
    "    \n",
    "l\n",
    "\n",
    "print(alpha.index('c'))\n",
    "print(alpha[-3])"
   ]
  },
  {
   "cell_type": "code",
   "execution_count": 19,
   "id": "b1fc4abb",
   "metadata": {},
   "outputs": [
    {
     "name": "stdout",
     "output_type": "stream",
     "text": [
      "True\n",
      "False\n",
      "False\n",
      "False\n",
      "True\n"
     ]
    }
   ],
   "source": [
    "s='VishU'\n",
    "\n",
    "for i in s:\n",
    "    if i.isupper():\n",
    "        print('True')\n",
    "    else:\n",
    "        print('False')"
   ]
  },
  {
   "cell_type": "code",
   "execution_count": 30,
   "id": "503e92f7",
   "metadata": {},
   "outputs": [
    {
     "name": "stdout",
     "output_type": "stream",
     "text": [
      "Enter a String yu\n"
     ]
    },
    {
     "data": {
      "text/plain": [
       "True"
      ]
     },
     "execution_count": 30,
     "metadata": {},
     "output_type": "execute_result"
    }
   ],
   "source": [
    "s=input('Enter a String ')\n",
    "\n",
    "is_num=lambda q: q.isalnum()\n",
    "\n",
    "is_num(s)"
   ]
  },
  {
   "cell_type": "code",
   "execution_count": null,
   "id": "c547f22e",
   "metadata": {},
   "outputs": [],
   "source": []
  }
 ],
 "metadata": {
  "kernelspec": {
   "display_name": "Python 3 (ipykernel)",
   "language": "python",
   "name": "python3"
  },
  "language_info": {
   "codemirror_mode": {
    "name": "ipython",
    "version": 3
   },
   "file_extension": ".py",
   "mimetype": "text/x-python",
   "name": "python",
   "nbconvert_exporter": "python",
   "pygments_lexer": "ipython3",
   "version": "3.9.12"
  }
 },
 "nbformat": 4,
 "nbformat_minor": 5
}
