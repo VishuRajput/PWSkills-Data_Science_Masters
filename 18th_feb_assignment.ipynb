{
 "cells": [
  {
   "cell_type": "markdown",
   "id": "fe83d387",
   "metadata": {},
   "source": [
    "#Problem 1\n",
    "\n",
    "API stands for Application Programming Interface. In the context of APIs, the word Application refers to any software with a distinct function. Interface can be thought of as a contract of service between two applications. This contract defines how the two communicate with each other using requests and responses.\n",
    "\n",
    "ex - Gpay, Twitter app, gooogle maps etc\n",
    "\n",
    "Its used in application to interact with different systems as well as backend to do the task specified."
   ]
  },
  {
   "cell_type": "markdown",
   "id": "a42d430a",
   "metadata": {},
   "source": [
    "#Problem 2\n",
    "\n",
    "Advantages \n",
    "- Increased Interoperability\n",
    "- Improved Efficiency\n",
    "- Better User Experience\n",
    "- Increased Flexibility\n",
    "- New Revenue Streams\n",
    "\n",
    "Disadvantages\n",
    "- Security Concerns\n",
    "- Complexity\n",
    "- Compatibility Issues\n",
    "- Dependency on Third-Party Developers\n",
    "- Governance and Management"
   ]
  },
  {
   "cell_type": "markdown",
   "id": "5e09a2b5",
   "metadata": {},
   "source": [
    "#Problem 3\n",
    "\n",
    "A Web API is an application programming interface for the Web. A Browser API can extend the functionality of a web browser. A Server API can extend the functionality of a web server.\n",
    "\n",
    "API\n",
    "- All APIs are not web services\n",
    "- Responses are formatted using web APIs.\n",
    "- It has a lightweight architecture\n",
    "- It can be used by a client who understands JSON or XML\n",
    "- It can be used for any style of communication.\n",
    "- Provides support to HTTP/s, URL requests etc.\n",
    "\n",
    "Web API\n",
    "- All web services are APIs\n",
    "- Supports XML\n",
    "- Need a SOAP protocol to send or receive data over the network, therefore it does not have light weight architecture.\n",
    "- 3 styles REST,SOAP and XML-RPC.\n",
    "- Provides support only for the HTTP protocol."
   ]
  },
  {
   "cell_type": "markdown",
   "id": "a06ac6c5",
   "metadata": {},
   "source": [
    "#Problem 4\n",
    "\n",
    "REST\n",
    "- The Representational State Transfer (REST) architectural style is a worldview that elevates information into a first-class element of architectures. REST allows us to achieve the architectural properties of performance, scalability, generality, simplicity, modifiability, and extensibility.\n",
    "\n",
    "SOAP \n",
    "- SOAP is a protocol for the exchange of information in a distributed environment. SOAP messages are encoded as XML documents and can be exchanged using various underlying protocols.\n",
    "\n",
    "Shortcomings\n",
    "- Highly complex.\n",
    "- In comparison to Rest, SOAP is significantly more complex.\n",
    "- No variety of data formats.\n",
    "- SOAP is also extremely limited in its support of data formats.\n",
    "- API calls are not cached. ...\n",
    "- Uses more bandwidth."
   ]
  },
  {
   "cell_type": "markdown",
   "id": "c2228e78",
   "metadata": {},
   "source": [
    "#Problem 5\n",
    "\n",
    "REST\n",
    "- It stands for REpresentational State Transfer.\n",
    "- It has an architectural style with loose guidelines.\n",
    "- It is stateful, i.e. no server-side sessions occur.\n",
    "- It is data-driven, meaning that data is available as resources.\n",
    "- It supports HTTPS and SSL (Secure Sockets Layer)\n",
    "- REST API calls can be cached.\n",
    "\n",
    "SOAP\n",
    "- It stands for Simple Object Access Protocol\n",
    "- It is a standardized protocol for pre-defined rules to follow.\n",
    "- SOAP is by default stateless, but it is possible to make this API stateful.\n",
    "- It is functional-driven, means that data here is available as services, eg, getUser\n",
    "- It has WS-security (Enterprise-level security) with SSL support. It also has built-in ACID(Atomicity, Consistency, Integrity, Durability) compliance which is a good feature for transactions and that’s why SOAP is used while exchanging sensitive information.\n",
    "- SOAP API calls cannot be cached."
   ]
  },
  {
   "cell_type": "code",
   "execution_count": null,
   "id": "44f1efbc",
   "metadata": {},
   "outputs": [],
   "source": []
  }
 ],
 "metadata": {
  "kernelspec": {
   "display_name": "Python 3 (ipykernel)",
   "language": "python",
   "name": "python3"
  },
  "language_info": {
   "codemirror_mode": {
    "name": "ipython",
    "version": 3
   },
   "file_extension": ".py",
   "mimetype": "text/x-python",
   "name": "python",
   "nbconvert_exporter": "python",
   "pygments_lexer": "ipython3",
   "version": "3.9.12"
  }
 },
 "nbformat": 4,
 "nbformat_minor": 5
}
