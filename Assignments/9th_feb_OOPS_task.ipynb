{
 "cells": [
  {
   "cell_type": "code",
   "execution_count": 1,
   "id": "d817f721",
   "metadata": {},
   "outputs": [],
   "source": [
    "#Problem 1\n",
    "\n",
    "class Vehicle:\n",
    "    def __init__(self,name,speed,average):\n",
    "        self.name_of_vehicle=name\n",
    "        self.max_speed=speed\n",
    "        self.average_of_vehicle=average"
   ]
  },
  {
   "cell_type": "code",
   "execution_count": 20,
   "id": "ccde1ed6",
   "metadata": {},
   "outputs": [
    {
     "data": {
      "text/plain": [
       "('alto', 5)"
      ]
     },
     "execution_count": 20,
     "metadata": {},
     "output_type": "execute_result"
    }
   ],
   "source": [
    "#Problem 2\n",
    "\n",
    "class Car(Vehicle):\n",
    "   \n",
    "    def seating_capacity(self,capacity):\n",
    "        self.seating_cap=capacity\n",
    "        return self.name_of_vehicle,self.seating_cap,\n",
    "        \n",
    "car_1=Car('alto',45,19)\n",
    "car_1.seating_capacity(5)"
   ]
  },
  {
   "cell_type": "code",
   "execution_count": 23,
   "id": "b6eec805",
   "metadata": {},
   "outputs": [
    {
     "data": {
      "text/plain": [
       "'This is Class 01'"
      ]
     },
     "execution_count": 23,
     "metadata": {},
     "output_type": "execute_result"
    }
   ],
   "source": [
    "#Problem 3\n",
    "\n",
    "#Multiple inheritance means that a subclass can inherit from two or more superclasses.\n",
    "\n",
    "class class01:\n",
    "    \n",
    "    def test_class01(self):\n",
    "        return 'This is Class 01'\n",
    "class class02:\n",
    "    \n",
    "    def test_class02(self):\n",
    "        return 'This is Class 02'\n",
    "class class03(class01,class02):\n",
    "    pass\n",
    "child_class03=class03()\n",
    "child_class03.test_class01()\n",
    "\n",
    "\n"
   ]
  },
  {
   "cell_type": "code",
   "execution_count": 24,
   "id": "904c7db7",
   "metadata": {},
   "outputs": [
    {
     "data": {
      "text/plain": [
       "'This is Class 02'"
      ]
     },
     "execution_count": 24,
     "metadata": {},
     "output_type": "execute_result"
    }
   ],
   "source": [
    "child_class03.test_class02()"
   ]
  },
  {
   "cell_type": "code",
   "execution_count": 25,
   "id": "8a9a214e",
   "metadata": {},
   "outputs": [
    {
     "data": {
      "text/plain": [
       "7488"
      ]
     },
     "execution_count": 25,
     "metadata": {},
     "output_type": "execute_result"
    }
   ],
   "source": [
    "#Problem 4\n",
    "\n",
    "#We use getters & setters to add validation logic around getting and setting a value.\n",
    "#To avoid direct access of a class field i.e. private variables cannot be accessed directly or modified by external user.\n",
    "\n",
    "class car:\n",
    "    def __init__(self, year, make,model,speed):\n",
    "        self.__year=year\n",
    "        self.__make=make\n",
    "        self.__model=model\n",
    "        self.__speed=0\n",
    "        \n",
    "    def set_speed(self,speed):\n",
    "        self.__speed=0 if speed<0 else speed\n",
    "        \n",
    "    def get_speed(self):\n",
    "        return self.__speed\n",
    "c=car(2021, 'Tata', 'Nexon', 12)\n",
    "c.set_speed(7488)\n",
    "c.get_speed()"
   ]
  },
  {
   "cell_type": "code",
   "execution_count": 28,
   "id": "901e5975",
   "metadata": {},
   "outputs": [
    {
     "name": "stdout",
     "output_type": "stream",
     "text": [
      "The method Walk here is overridden in the code\n",
      "Hello, I am the child class\n",
      "Hello, I am the parent class\n"
     ]
    }
   ],
   "source": [
    "#Problem 5\n",
    "\n",
    "\"\"\"\n",
    "Method overriding in Python is when you have two methods with the same name that each perform different tasks.\n",
    "This is an important feature of inheritance in Python.\n",
    "Also used in encapsulation.\n",
    "\n",
    "\"\"\"\n",
    "\n",
    "class Animal:\n",
    "    def Walk(self):\n",
    "        print('Hello, I am the parent class')\n",
    "\n",
    "class Dog(Animal):\n",
    "    def Walk(self):\n",
    "        print('Hello, I am the child class')\n",
    "        \n",
    "print('The method Walk here is overridden in the code')\n",
    "\n",
    "\n",
    "r = Dog()\n",
    "r.Walk()\n",
    "\n",
    "r = Animal()\n",
    "r.Walk()"
   ]
  },
  {
   "cell_type": "code",
   "execution_count": null,
   "id": "db0215ce",
   "metadata": {},
   "outputs": [],
   "source": []
  }
 ],
 "metadata": {
  "kernelspec": {
   "display_name": "Python 3 (ipykernel)",
   "language": "python",
   "name": "python3"
  },
  "language_info": {
   "codemirror_mode": {
    "name": "ipython",
    "version": 3
   },
   "file_extension": ".py",
   "mimetype": "text/x-python",
   "name": "python",
   "nbconvert_exporter": "python",
   "pygments_lexer": "ipython3",
   "version": "3.9.12"
  }
 },
 "nbformat": 4,
 "nbformat_minor": 5
}
