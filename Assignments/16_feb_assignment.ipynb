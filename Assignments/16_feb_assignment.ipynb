{
 "cells": [
  {
   "cell_type": "markdown",
   "id": "0b99e77c",
   "metadata": {},
   "source": [
    "#Problem 1\n",
    "\n",
    "A database is an organized collection of structured information, or data, typically stored electronically in a computer system. A database is usually controlled by a database management system (DBMS)\n",
    "\n",
    "SQL\t\n",
    "- RELATIONAL DATABASE MANAGEMENT SYSTEM (RDBMS)\t\n",
    "- These databases have fixed or static or predefined schema\t\n",
    "- These databases are not suited for hierarchical data storage.\t\n",
    "- These databases are best suited for complex queries\t\n",
    "- Vertically Scalable\t\n",
    "\n",
    "NoSQL\n",
    "- Non-relational or distributed database system.\n",
    "- They have dynamic schema\n",
    "- These databases are best suited for hierarchical data storage.\n",
    "- These databases are not so good for complex queries\n",
    "- Horizontally scalable"
   ]
  },
  {
   "cell_type": "markdown",
   "id": "37e68ca3",
   "metadata": {},
   "source": [
    "#Problem 2\n",
    "\n",
    "DDL - It stands Data Definition Language\n",
    "- Used to define and drop or delete tables.\n",
    "\n",
    "CREATE - Used to create database/tables\n",
    "ex - \n",
    "\n",
    "- Create database test;\n",
    "- Create table customers;\n",
    "\n",
    "DROP - Used to delete the whole table along with its structure.\n",
    "ex - \n",
    "\n",
    "- Drop table customers;\n",
    "\n",
    "ALTER - Used to alter columns inside tables, add/delete/modify columns.\n",
    "ex - \n",
    "\n",
    "- Alter table customers add age int, name varchar(50);\n",
    "\n",
    "TRUNCATE - Used to delete content of table at once without deleting the structure.\n",
    "ex -\n",
    "\n",
    "- Truncate table customers;\n"
   ]
  },
  {
   "cell_type": "markdown",
   "id": "52489eae",
   "metadata": {},
   "source": [
    "#Problem 3\n",
    "\n",
    "DML - It stands for Data Manipulation Language.\n",
    "- It is used to manipulate data i.e insert new data update or delete data from table.\n",
    "\n",
    "INSERT - used to insert new entries to table data.\n",
    "ex - \n",
    "\n",
    "- Insert into customers values(23, 'vishu')\n",
    "- Insert into customers values(24, 'chib')\n",
    "\n",
    "UPDATE - used to modify existing entries inside table.\n",
    "ex - \n",
    "\n",
    "- Update customers set name = 'vishal' where age = 23\n",
    "\n",
    "DELETE - used to delete existing entries from table\n",
    "ex - \n",
    "\n",
    "- Delete from customers where age = 23"
   ]
  },
  {
   "cell_type": "markdown",
   "id": "c802f5e3",
   "metadata": {},
   "source": [
    "#Problem 4\n",
    "\n",
    "DQL - It stands for Data Query Langage.\n",
    "- It is used to query out or display the contents of the tables we have already in database.\n",
    "\n",
    "SELECT - used to select and see the contents of table.\n",
    "ex - \n",
    "\n",
    "- Select * from customers\n",
    "- select age from customers\n"
   ]
  },
  {
   "cell_type": "markdown",
   "id": "5028828a",
   "metadata": {},
   "source": [
    "#Problem 5\n",
    "\n",
    "Primary key - The PRIMARY KEY constraint uniquely identifies each record in a table. Primary keys must contain UNIQUE values, and cannot contain NULL values. A table can have only ONE primary key; and in the table, this primary key can consist of single or multiple columns (fields).\n",
    "\n",
    "Foreign key - A FOREIGN KEY is a field (or collection of fields) in one table, that refers to the PRIMARY KEY in another table. The table with the foreign key is called the child table, and the table with the primary key is called the referenced or parent table."
   ]
  },
  {
   "cell_type": "markdown",
   "id": "2db3e11e",
   "metadata": {},
   "source": [
    "#Problem 6\n",
    "\n",
    "import mysql.connector\n",
    "\n",
    "mydb = mysql.connector.connect(\n",
    "  host=\"<host name or address>\",\n",
    "  user=\"<username for DB>\",\n",
    "  password=\"<Password for DB>\"\n",
    ")\n",
    "\n",
    "cursor() - Created when a connection to a database is established. They are bound to the connection for the entire lifetime and all the commands are executed in the context of the database session wrapped by the connection\n",
    "    \n",
    "Execute() - This method executes the given database operation (query or command). The parameters found in the tuple or dictionary params are bound to the variables in the operation."
   ]
  },
  {
   "cell_type": "markdown",
   "id": "1185b12b",
   "metadata": {},
   "source": [
    "#Problem 7\n",
    "\n",
    "Order of execution is given below :\n",
    "- FROM\n",
    "- WHERE\n",
    "- GROUP BY\n",
    "- HAVING \n",
    "- SELECT \n",
    "- ORDER BY\n",
    "- LIMIT"
   ]
  },
  {
   "cell_type": "code",
   "execution_count": null,
   "id": "b7661a59",
   "metadata": {},
   "outputs": [],
   "source": []
  }
 ],
 "metadata": {
  "kernelspec": {
   "display_name": "Python 3 (ipykernel)",
   "language": "python",
   "name": "python3"
  },
  "language_info": {
   "codemirror_mode": {
    "name": "ipython",
    "version": 3
   },
   "file_extension": ".py",
   "mimetype": "text/x-python",
   "name": "python",
   "nbconvert_exporter": "python",
   "pygments_lexer": "ipython3",
   "version": "3.9.12"
  }
 },
 "nbformat": 4,
 "nbformat_minor": 5
}
