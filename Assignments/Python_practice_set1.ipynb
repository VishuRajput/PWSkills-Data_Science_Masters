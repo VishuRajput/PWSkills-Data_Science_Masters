{
 "cells": [
  {
   "cell_type": "code",
   "execution_count": 2,
   "id": "b3893ed0",
   "metadata": {},
   "outputs": [
    {
     "name": "stdout",
     "output_type": "stream",
     "text": [
      "11\n"
     ]
    }
   ],
   "source": [
    "#Problem 1\n",
    "\n",
    "def add_numbers(x,y):\n",
    "    return (x+y)\n",
    "\n",
    "print(add_numbers(5,6))\n"
   ]
  },
  {
   "cell_type": "code",
   "execution_count": 9,
   "id": "f556cb64",
   "metadata": {},
   "outputs": [
    {
     "name": "stdout",
     "output_type": "stream",
     "text": [
      "Enter a number : 625\n",
      "Square root of n 25.0\n"
     ]
    }
   ],
   "source": [
    "#Problem 2\n",
    "\n",
    "import math\n",
    "\n",
    "n= float(input('Enter a number : '))\n",
    "res= math.sqrt(n)\n",
    "print('Square root of','n',res)"
   ]
  },
  {
   "cell_type": "code",
   "execution_count": 17,
   "id": "6454c822",
   "metadata": {},
   "outputs": [
    {
     "name": "stdout",
     "output_type": "stream",
     "text": [
      "2\n",
      "3\n",
      "5\n",
      "7\n",
      "11\n",
      "13\n",
      "17\n",
      "19\n",
      "23\n",
      "29\n",
      "31\n",
      "37\n",
      "41\n",
      "43\n",
      "47\n"
     ]
    }
   ],
   "source": [
    "#Problem 3\n",
    "\n",
    "def is_prime(num):\n",
    "    if num < 2:\n",
    "        return False\n",
    "    for i in range(2, int(num*0.5) + 1):\n",
    "        if num % i == 0:\n",
    "            return False\n",
    "    return True\n",
    "\n",
    "\n",
    "for num in range(0, 51):\n",
    "    if is_prime(num):\n",
    "        print(num)"
   ]
  },
  {
   "cell_type": "code",
   "execution_count": 21,
   "id": "14ba319c",
   "metadata": {},
   "outputs": [
    {
     "name": "stdout",
     "output_type": "stream",
     "text": [
      "Original Values: a= 5 b= 8 c= 9\n",
      "Swapped Values: a= 9 b= 5 c= 8\n"
     ]
    }
   ],
   "source": [
    "#Problem 4\n",
    "\n",
    "a = 5\n",
    "b = 8\n",
    "c = 9\n",
    "\n",
    "print('Original Values:','a=',a,'b=',b,'c=',c)\n",
    "\n",
    "a = a+b+c\n",
    "b = a-(b+c)\n",
    "c = a-(b+c)\n",
    "a = a-(b+c)\n",
    "\n",
    "\n",
    "print('Swapped Values:','a=',a,'b=',b,'c=',c)"
   ]
  },
  {
   "cell_type": "code",
   "execution_count": 25,
   "id": "971ae192",
   "metadata": {},
   "outputs": [
    {
     "name": "stdout",
     "output_type": "stream",
     "text": [
      "Enter a number : 4\n",
      "4 is a positive number.\n"
     ]
    }
   ],
   "source": [
    "#Problem 5\n",
    "\n",
    "n=int(input('Enter a number : '))\n",
    "\n",
    "if n>0:\n",
    "    print(n,'is a positive number.')\n",
    "elif n==0:\n",
    "    print(n,'is zero.')\n",
    "elif n<0:\n",
    "    print(n,'is a negative number')\n"
   ]
  },
  {
   "cell_type": "code",
   "execution_count": null,
   "id": "eae29941",
   "metadata": {},
   "outputs": [],
   "source": [
    "#Problem 6\n",
    "\n"
   ]
  }
 ],
 "metadata": {
  "kernelspec": {
   "display_name": "Python 3 (ipykernel)",
   "language": "python",
   "name": "python3"
  },
  "language_info": {
   "codemirror_mode": {
    "name": "ipython",
    "version": 3
   },
   "file_extension": ".py",
   "mimetype": "text/x-python",
   "name": "python",
   "nbconvert_exporter": "python",
   "pygments_lexer": "ipython3",
   "version": "3.9.12"
  }
 },
 "nbformat": 4,
 "nbformat_minor": 5
}
