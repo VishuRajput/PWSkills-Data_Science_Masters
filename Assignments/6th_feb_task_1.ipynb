{
 "cells": [
  {
   "cell_type": "code",
   "execution_count": 29,
   "id": "e1dcfba7",
   "metadata": {},
   "outputs": [
    {
     "name": "stdout",
     "output_type": "stream",
     "text": [
      "4134711838987085478833841242112000\n"
     ]
    }
   ],
   "source": [
    "#Problem 1\n",
    "\n",
    "\n",
    "def calculate_product(lst):\n",
    "    flat_list = []\n",
    "\n",
    "    def flatten(l):\n",
    "        for item in l:\n",
    "            if type(item) == int:\n",
    "                flat_list.append(item)\n",
    "            elif type(item) == float:\n",
    "                flat_list.append(item)\n",
    "            elif type(item) == bool:\n",
    "                continue\n",
    "            elif type(item) == tuple:\n",
    "                flatten(item)\n",
    "            elif type(item) == list:\n",
    "                flatten(item)\n",
    "            elif type(item)== set:\n",
    "                flatten(item)\n",
    "            elif type(item) == dict:\n",
    "                for key, value in item.items():\n",
    "                    if type(key) in [int, float]:\n",
    "                        flat_list.append(key)\n",
    "                    if type(value) in [int, float]:\n",
    "                        flat_list.append(value)\n",
    "                    elif type(value) in [list, tuple, set]:\n",
    "                        flatten(value)\n",
    "\n",
    "    flatten(lst)\n",
    "    product = 1\n",
    "    #print(flat_list,len(flat_list))\n",
    "    for item in flat_list:\n",
    "        product *= item\n",
    "    return product\n",
    "\n",
    "list1 = [1,2,3,4, [44,55,66, True], False, (34,56,78,89,34), {1,2,3,3,2,1}, {1:34, \"key2\": [55, 67, 78, 89], \n",
    "        4: (45, 22, 61, 34)}, [56, 'data science'], 'Machine Learning']\n",
    "print(calculate_product(list1))"
   ]
  },
  {
   "cell_type": "code",
   "execution_count": 48,
   "id": "65617acf",
   "metadata": {},
   "outputs": [
    {
     "name": "stdout",
     "output_type": "stream",
     "text": [
      "Enter you message :I want to Become a Data Scientist.\n",
      "Encrypted message is - r$dzmg$gl$yvxlnv$z$wzgz$hxrvmgrhg.\n"
     ]
    }
   ],
   "source": [
    "#Problem 2\n",
    "\n",
    "alpha = []\n",
    "\n",
    "for i in range(97,123):\n",
    "    alpha.append(chr(i))\n",
    "    \n",
    "#(alpha, end= ' ')\n",
    "#str = 'I want to become a Data Scientist.'\n",
    "str=input('Enter you message :')\n",
    "en_str=''\n",
    "final=''\n",
    "\n",
    "l=list(str)\n",
    "\n",
    "\n",
    "for i in l:\n",
    "    \n",
    "    if i==' ':\n",
    "        en_str += (i.replace(' ','$'))\n",
    "    else:\n",
    "        en_str += (i.lower())\n",
    "    \n",
    "en_list=list(en_str)\n",
    "\n",
    "#print(en_str)\n",
    "\n",
    "for i in en_list:\n",
    "    if i in alpha:\n",
    "        x=alpha.index(i)\n",
    "        y=x+1\n",
    "        final += alpha[-y]\n",
    "    else:\n",
    "        final += i\n",
    "    \n",
    "print('Encrypted message is -',final)"
   ]
  },
  {
   "cell_type": "code",
   "execution_count": null,
   "id": "22e59fe0",
   "metadata": {},
   "outputs": [],
   "source": []
  },
  {
   "cell_type": "code",
   "execution_count": null,
   "id": "74c42428",
   "metadata": {},
   "outputs": [],
   "source": []
  }
 ],
 "metadata": {
  "kernelspec": {
   "display_name": "Python 3 (ipykernel)",
   "language": "python",
   "name": "python3"
  },
  "language_info": {
   "codemirror_mode": {
    "name": "ipython",
    "version": 3
   },
   "file_extension": ".py",
   "mimetype": "text/x-python",
   "name": "python",
   "nbconvert_exporter": "python",
   "pygments_lexer": "ipython3",
   "version": "3.9.12"
  }
 },
 "nbformat": 4,
 "nbformat_minor": 5
}
