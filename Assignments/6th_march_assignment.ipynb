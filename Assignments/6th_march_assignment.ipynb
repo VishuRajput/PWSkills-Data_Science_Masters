{
 "cells": [
  {
   "cell_type": "markdown",
   "id": "03ccfa65",
   "metadata": {},
   "source": [
    "#Problem 1\n",
    "\n",
    "Statistics is a branch of mathematics that deals with the collection, analysis, interpretation, presentation, and organization of data. It involves methods for collecting, organizing, summarizing, analyzing, and drawing conclusions from data."
   ]
  },
  {
   "cell_type": "markdown",
   "id": "a3163fc2",
   "metadata": {},
   "source": [
    "#Problem 2\n",
    "\n",
    "- Descriptive Statistics\n",
    "Descriptive statistics involves summarizing and describing data using measures such as measures of central tendency, measures of variability, and measures of association. It provides a way to understand and describe the main characteristics and patterns within a dataset.\n",
    "\n",
    "- eg: Ages data of students, height/weights data of students\n",
    "\n",
    "- Inferential Statistics\n",
    "Inferential statistics involves making inferences or drawing conclusions about a population based on a sample. It uses probability theory to analyze and interpret data and to make predictions or generalizations about a larger group or population.\n",
    "\n",
    "- techniques applied on different group of students for teaching."
   ]
  },
  {
   "cell_type": "markdown",
   "id": "4179cf34",
   "metadata": {},
   "source": [
    "#Problem 3\n",
    "\n",
    "- Quantitative\n",
    "    - Discrete\n",
    "        - Whole number\n",
    "        - eg: Bank account, Population\n",
    "        \n",
    "    - Continous\n",
    "        - Any Value\n",
    "        - eg: Height, weight\n",
    "        \n",
    "- Qualitative\n",
    "    - Nominal\n",
    "        - Data without ranking and order\n",
    "        - eg: Gender, Pincode\n",
    "        \n",
    "    - Ordinal\n",
    "        - Order and ranking is there\n",
    "        - eg: feedback, ratings"
   ]
  },
  {
   "cell_type": "markdown",
   "id": "02541143",
   "metadata": {},
   "source": [
    "#Problem 4\n",
    "1 - Qualitative\n",
    "2 - Qualitative\n",
    "3 - Quantitative\n",
    "4 - Quantitative"
   ]
  },
  {
   "cell_type": "markdown",
   "id": "34428092",
   "metadata": {},
   "source": [
    "#Problem 5\n",
    "\n",
    "- Nominal Scale Data\n",
    "    - Quantitative/Categorical in nature\n",
    "    - Order is not important\n",
    "    - Eg: Gender, Favourite color\n",
    "    \n",
    "- Ordinal Scale Data\n",
    "    - Ranking is important\n",
    "    - Order is there\n",
    "    - Difference cannot be measured\n",
    "    - eg: Reviews(Good, Bad)\n",
    "    \n",
    "- Interval Scale Data\n",
    "    - Orde matters\n",
    "    - Difference can be measured\n",
    "    - Ratio difference does not make sense\n",
    "    - does not have a '0' starting point\n",
    "    - eg: Temperature variable\n",
    "    \n",
    "- Ratio Scale Data\n",
    "    - Order matters\n",
    "    - Difference are measured\n",
    "    - Ratio is also measured and makes sense\n",
    "    - Contains a '0' starting point\n",
    "    - eg: Students marks"
   ]
  },
  {
   "cell_type": "markdown",
   "id": "34ad5168",
   "metadata": {},
   "source": [
    "#Problem 6\n",
    "\n",
    "Understanding the level of measurement is crucial when analyzing data because it determines the type of statistical analysis and the appropriate statistical techniques that can be applied to the data. The level of measurement refers to the nature and characteristics of the data, which can be classified into four levels: nominal, ordinal, interval, and ratio.\n",
    "\n",
    "eg:\n",
    "\n",
    "Suppose you are conducting a survey to gather data on the political affiliation of individuals. You provide them with response options: Republican, Democrat, Independent, and Other. In this case, the political affiliation is a nominal variable. Nominal variables represent categories or groups without any inherent order or numerical value.\n",
    "\n",
    "If you were to analyze the data by calculating the mean (average) political affiliation, it would not make sense because the categories do not have numerical values. Instead, you would focus on descriptive statistics such as frequencies or percentages to determine the distribution of political affiliations."
   ]
  },
  {
   "cell_type": "markdown",
   "id": "ec33c597",
   "metadata": {},
   "source": [
    "#Problem 7\n",
    "\n",
    "Nominal\n",
    "   - Data without ranking and order\n",
    "   - eg: Gender, Pincode\n",
    "        \n",
    "Ordinal\n",
    "   - Order and ranking is there\n",
    "   - eg: feedback, ratings"
   ]
  },
  {
   "cell_type": "markdown",
   "id": "1aa0d754",
   "metadata": {},
   "source": [
    "#Problem 8\n",
    "\n",
    "Box plot"
   ]
  },
  {
   "cell_type": "markdown",
   "id": "7ee60f8f",
   "metadata": {},
   "source": [
    "#Problem 9\n",
    "\n",
    "- Descriptive Statistics\n",
    "Descriptive statistics involves summarizing and describing data using measures such as measures of central tendency, measures of variability, and measures of association. It provides a way to understand and describe the main characteristics and patterns within a dataset.\n",
    "\n",
    "- eg: Ages data of students, height/weights data of students\n",
    "\n",
    "- Inferential Statistics\n",
    "Inferential statistics involves making inferences or drawing conclusions about a population based on a sample. It uses probability theory to analyze and interpret data and to make predictions or generalizations about a larger group or population.\n",
    "\n",
    "- techniques applied on different group of students for teaching."
   ]
  },
  {
   "cell_type": "markdown",
   "id": "3d6167c2",
   "metadata": {},
   "source": [
    "#Problem 10\n",
    "\n",
    "Measures of Central Tendency:\n",
    "\n",
    "- Mean: The mean is calculated by summing up all the values in a dataset and dividing by the total number of values. It represents the average or the arithmetic midpoint of the dataset. The mean is sensitive to extreme values and provides a balanced estimate when the data is normally distributed.\n",
    "\n",
    "- Median: The median is the middle value in a sorted dataset. If the dataset has an odd number of values, the median is the middle value. If the dataset has an even number of values, the median is the average of the two middle values. The median is less affected by extreme values and is a good measure to use when the data is skewed or contains outliers.\n",
    "\n",
    "- Mode: The mode is the most frequently occurring value in a dataset. It represents the value(s) that appear(s) with the highest frequency. The mode is useful for categorical or discrete data, but it can also be used with continuous data. It helps identify the most common category or value in the dataset.\n",
    "\n",
    "Measures of Variability:\n",
    "\n",
    "- Range: The range is the difference between the maximum and minimum values in a dataset. It provides a simple measure of the spread of the data. However, it is highly influenced by extreme values and may not capture the overall variability well.\n",
    "\n",
    "- Standard Deviation: The standard deviation measures the average deviation of each data point from the mean. It quantifies the dispersion or spread of the data. A larger standard deviation indicates greater variability, while a smaller standard deviation suggests less variability. It is commonly used with the mean to describe the spread of normally distributed data.\n",
    "\n",
    "- Variance: The variance is the average of the squared deviations from the mean. It is another measure of data spread similar to the standard deviation. The variance is useful for understanding the dispersion of the data, but its value is in squared units, which can make interpretation more challenging compared to the standard deviation.\n"
   ]
  },
  {
   "cell_type": "code",
   "execution_count": null,
   "id": "bf159490",
   "metadata": {},
   "outputs": [],
   "source": []
  }
 ],
 "metadata": {
  "kernelspec": {
   "display_name": "Python 3 (ipykernel)",
   "language": "python",
   "name": "python3"
  },
  "language_info": {
   "codemirror_mode": {
    "name": "ipython",
    "version": 3
   },
   "file_extension": ".py",
   "mimetype": "text/x-python",
   "name": "python",
   "nbconvert_exporter": "python",
   "pygments_lexer": "ipython3",
   "version": "3.9.12"
  }
 },
 "nbformat": 4,
 "nbformat_minor": 5
}
