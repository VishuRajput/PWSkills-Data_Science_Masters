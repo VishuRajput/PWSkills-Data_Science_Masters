{
 "cells": [
  {
   "cell_type": "markdown",
   "id": "06a4ac5c",
   "metadata": {},
   "source": [
    "#Problem 1\n",
    "\n",
    "Web scraping is the process of collecting structured web data in an automated manner. It's also widely known as web data extraction or web data scraping. \n",
    "\n",
    "- price monitoring\n",
    "- price intelligence\n",
    "- news monitoring"
   ]
  },
  {
   "cell_type": "markdown",
   "id": "415fc698",
   "metadata": {},
   "source": [
    "#Problem 2\n",
    "\n",
    "- Human copy-and-paste\n",
    "- HTML parsing.\n",
    "- Computer vision web-page analysis"
   ]
  },
  {
   "cell_type": "markdown",
   "id": "92d03edb",
   "metadata": {},
   "source": [
    "#Problem 3\n",
    "\n",
    "Beautiful Soup is a python package and as the name suggests, parses the unwanted data and helps to organize and format the messy web data by fixing bad HTML and present to us in an easily-traversible XML structures. \n",
    "\n",
    "It allows us to pull data out of HTML and XML documents."
   ]
  },
  {
   "cell_type": "markdown",
   "id": "4a9351d7",
   "metadata": {},
   "source": [
    "#Problem 4\n",
    "\n",
    "Flask is a lightweight framework to build websites. We'll use this to parse our collected data and display it as HTML in a new HTML file. The requests module allows us to send http requests to the website we want to scrape. The first line imports the Flask class and the render_template method from the flask library."
   ]
  },
  {
   "cell_type": "markdown",
   "id": "1859b00b",
   "metadata": {},
   "source": [
    "#Problem 5\n",
    "\n",
    "- Elastic Beanstalk\n",
    "Elastic Beanstalk is a service for deploying and scaling web applications and services.\n",
    "\n",
    "- Code Pipeline\n",
    "AWS CodePipeline is a fully managed continuous delivery service that helps you automate your release pipelines for fast and reliable application and infrastructure updates.\n",
    "\n",
    "We used beanstalk to host our web app on aws and code pipeline is used to connect our source code from our github to the aws host."
   ]
  },
  {
   "cell_type": "code",
   "execution_count": null,
   "id": "a8661c4f",
   "metadata": {},
   "outputs": [],
   "source": []
  }
 ],
 "metadata": {
  "kernelspec": {
   "display_name": "Python 3 (ipykernel)",
   "language": "python",
   "name": "python3"
  },
  "language_info": {
   "codemirror_mode": {
    "name": "ipython",
    "version": 3
   },
   "file_extension": ".py",
   "mimetype": "text/x-python",
   "name": "python",
   "nbconvert_exporter": "python",
   "pygments_lexer": "ipython3",
   "version": "3.9.12"
  }
 },
 "nbformat": 4,
 "nbformat_minor": 5
}
