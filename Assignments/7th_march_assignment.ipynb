{
 "cells": [
  {
   "cell_type": "markdown",
   "id": "e40e7c0d",
   "metadata": {},
   "source": [
    "#Problem 1\n",
    "\n",
    "- mean\n",
    "- median\n",
    "- mode"
   ]
  },
  {
   "cell_type": "markdown",
   "id": "6a71129f",
   "metadata": {},
   "source": [
    "#Prob 2\n",
    "\n",
    "- mean\n",
    "    - average of the dataset.\n",
    "- median\n",
    "    - middle element of the sorted dataset.\n",
    "- mode\n",
    "    - element having maximum frequency in the dataset.\n",
    "    \n",
    "\n",
    "\n",
    "    "
   ]
  },
  {
   "cell_type": "code",
   "execution_count": 2,
   "id": "d7c709c3",
   "metadata": {},
   "outputs": [
    {
     "name": "stdout",
     "output_type": "stream",
     "text": [
      "Mean : 177.01875\n",
      "Median : 177.0\n",
      "Mode : ModeResult(mode=array([177.]), count=array([3]))\n"
     ]
    }
   ],
   "source": [
    "#Prob 3\n",
    "\n",
    "import numpy as np\n",
    "from scipy import stats\n",
    "data=[178,177,176,177,178.2,178,175,179,180,175,178.9,176.2,177,172.5,178,176.5]\n",
    "\n",
    "print('Mean :',np.mean(data))\n",
    "print('Median :',np.median(data))\n",
    "print('Mode :',stats.mode(data))"
   ]
  },
  {
   "cell_type": "code",
   "execution_count": 7,
   "id": "f9b480d8",
   "metadata": {},
   "outputs": [
    {
     "name": "stdout",
     "output_type": "stream",
     "text": [
      "Standard Deviation : 1.7885814036548633\n"
     ]
    }
   ],
   "source": [
    "#Prob 4\n",
    "\n",
    "print('Standard Deviation :',np.std(data))"
   ]
  },
  {
   "cell_type": "markdown",
   "id": "e92d75a2",
   "metadata": {},
   "source": [
    "#Prob 5\n",
    "\n",
    "- Range: The range is the simplest measure of dispersion. It is calculated by finding the difference between the maximum and minimum values in a dataset. The range provides an estimate of the total spread or extent of the data. However, it is sensitive to extreme values and does not take into account the distribution of values within the dataset.\n",
    "\n",
    "Example: Consider a dataset of exam scores for a class of students: [60, 65, 70, 75, 80]. The range would be 80 - 60 = 20, indicating that the scores range from 60 to 80.\n",
    "\n",
    "- Variance: Variance measures the average of the squared deviations from the mean. It quantifies the dispersion of the data points around the mean. A larger variance indicates greater variability, while a smaller variance suggests less variability. However, the variance is in squared units, making it difficult to interpret.\n",
    "\n",
    "Example: Using the same exam scores dataset, assuming the mean is 70, the squared deviations from the mean are [(70-60)^2, (70-65)^2, (70-70)^2, (70-75)^2, (70-80)^2] = [100, 25, 0, 25, 100]. The variance would be the average of these squared deviations, which is (100+25+0+25+100)/5 = 50.\n",
    "\n",
    "- Standard Deviation: The standard deviation is the square root of the variance. It is a widely used measure of dispersion that provides the average deviation of each data point from the mean. The standard deviation is in the same units as the original data, making it more interpretable than the variance.\n",
    "\n",
    "Example: Using the same exam scores dataset, the variance was calculated as 50. Taking the square root of the variance gives the standard deviation, which is sqrt(50) ≈ 7.07."
   ]
  },
  {
   "cell_type": "markdown",
   "id": "f18a68fc",
   "metadata": {},
   "source": [
    "#Prob 6\n",
    "\n",
    "A Venn diagram illustrates the relationships between two or more data sets. Venn diagrams are especially useful for highlighting similarities and differences and are commonly used to compare and contrast the characteristics of different data sets."
   ]
  },
  {
   "cell_type": "code",
   "execution_count": 11,
   "id": "db7290e2",
   "metadata": {},
   "outputs": [
    {
     "name": "stdout",
     "output_type": "stream",
     "text": [
      "Intersection : {2, 6}\n",
      "Union : {0, 2, 3, 4, 5, 6, 7, 8, 10}\n"
     ]
    }
   ],
   "source": [
    "#Prob 7 \n",
    "\n",
    "A = {2,3,4,5,6,7}\n",
    "B = {0,2,6,8,10}\n",
    "\n",
    "print('Intersection :',A.intersection(B))\n",
    "print('Union :',A.union(B))\n"
   ]
  },
  {
   "cell_type": "markdown",
   "id": "ecbacb03",
   "metadata": {},
   "source": [
    "#Prob 8\n",
    "\n",
    "Skewness is a measurement of the distortion of symmetrical distribution or asymmetry in a data set. Skewness is demonstrated on a bell curve when data points are not distributed symmetrically to the left and right sides of the median on a bell curve."
   ]
  },
  {
   "cell_type": "markdown",
   "id": "2181b355",
   "metadata": {},
   "source": [
    "#Prob 9\n",
    "\n",
    "median > mean"
   ]
  },
  {
   "cell_type": "markdown",
   "id": "8ef72674",
   "metadata": {},
   "source": [
    "#Prob 10\n",
    "\n",
    "Covariance and correlation are both measures used in statistical analysis to describe the relationship between two variables.\n",
    "\n",
    "- Covariance\n",
    "    - Covariance measures the extent to which two variables vary together. It quantifies the directional relationship between two variables, indicating whether they tend to increase or decrease together. A positive covariance indicates a positive relationship, meaning that when one variable increases, the other tends to increase as well. A negative covariance indicates a negative relationship, where one variable increases as the other decreases.\n",
    "    - Covariance formula:\n",
    "cov(X, Y) = Σ[(Xᵢ - X̄)(Yᵢ - Ȳ)] / n\n",
    "\n",
    "- Correlation\n",
    "    - Correlation, on the other hand, measures both the strength and direction of the linear relationship between two variables. It standardizes the covariance by dividing it by the product of the standard deviations of the two variables. The resulting correlation coefficient ranges between -1 and +1.\n",
    "    - Correlation formula:\n",
    "cor(X, Y) = cov(X, Y) / (σ(X) * σ(Y))"
   ]
  },
  {
   "cell_type": "markdown",
   "id": "d817cc65",
   "metadata": {},
   "source": [
    "#Prob 11\n",
    "\n",
    "Formula \n",
    "- x̄ = ( Σ xi ) / n\n",
    "\n",
    "data = [2,3,5,6,2,3,1,2,4,5,6]\n",
    "\n",
    "- mean = (2+3+5+6+2+3+1+2+4+5+6)/11\n",
    "- mean =39/11\n",
    "- mean = 3.54"
   ]
  },
  {
   "cell_type": "markdown",
   "id": "5eb3c083",
   "metadata": {},
   "source": [
    "#Prob 12\n",
    "\n",
    "mean =~ median ~ mode\n",
    "\n"
   ]
  },
  {
   "cell_type": "markdown",
   "id": "bf495e12",
   "metadata": {},
   "source": [
    "#Prob 13\n",
    "\n",
    "Covariance is an indicator of the extent to which 2 random variables are dependent on each other. A higher number denotes higher dependency. Correlation is a statistical measure that indicates how strongly two variables are related. The value of covariance lies in the range of -∞ and +∞."
   ]
  },
  {
   "cell_type": "markdown",
   "id": "981c1402",
   "metadata": {},
   "source": [
    "#Prob 14\n",
    "\n",
    "Outliers are numbers in a data set that are vastly larger or smaller than the other values in the set. Mean, median and mode are measures of central tendency. Mean is the only measure of central tendency that is always affected by an outlier. Mean, the average, is the most popular measure of central tendency."
   ]
  },
  {
   "cell_type": "code",
   "execution_count": null,
   "id": "43dd554c",
   "metadata": {},
   "outputs": [],
   "source": []
  }
 ],
 "metadata": {
  "kernelspec": {
   "display_name": "Python 3 (ipykernel)",
   "language": "python",
   "name": "python3"
  },
  "language_info": {
   "codemirror_mode": {
    "name": "ipython",
    "version": 3
   },
   "file_extension": ".py",
   "mimetype": "text/x-python",
   "name": "python",
   "nbconvert_exporter": "python",
   "pygments_lexer": "ipython3",
   "version": "3.9.12"
  }
 },
 "nbformat": 4,
 "nbformat_minor": 5
}
