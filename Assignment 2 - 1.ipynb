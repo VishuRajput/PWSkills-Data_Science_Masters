{
 "cells": [
  {
   "cell_type": "code",
   "execution_count": 5,
   "id": "5c2881f0",
   "metadata": {},
   "outputs": [
    {
     "name": "stdout",
     "output_type": "stream",
     "text": [
      "Enter percentage : 56\n",
      "Grade is D\n"
     ]
    }
   ],
   "source": [
    "#Problem 1\n",
    "\n",
    "x = int(input('Enter percentage : '))\n",
    "if x >90:\n",
    "    print('Grade is A')\n",
    "elif x >80 and x<=90:\n",
    "    print('Grade is B')\n",
    "elif x >=60 and x<=80:\n",
    "    print('Grade is C')\n",
    "else :\n",
    "    print('Grade is D')"
   ]
  },
  {
   "cell_type": "code",
   "execution_count": 8,
   "id": "d8e9dd96",
   "metadata": {},
   "outputs": [
    {
     "name": "stdout",
     "output_type": "stream",
     "text": [
      "Enter Cost : 45000\n",
      "Road tax to be paid is  2250.0\n"
     ]
    }
   ],
   "source": [
    "#Problem 2\n",
    "\n",
    "x = int(input('Enter Cost : '))\n",
    "tax = 0\n",
    "if x >100000:\n",
    "    tax = x*15/100\n",
    "elif x>50000 and x<=100000:\n",
    "    tax = x*10/100\n",
    "else :\n",
    "    tax = x*5/100\n",
    "    \n",
    "print('Road tax to be paid is ',tax)"
   ]
  },
  {
   "cell_type": "code",
   "execution_count": 15,
   "id": "14a7a603",
   "metadata": {},
   "outputs": [
    {
     "name": "stdout",
     "output_type": "stream",
     "text": [
      "Enter City : delhi\n",
      "Monument is Red Fort\n"
     ]
    }
   ],
   "source": [
    "#Problem 3\n",
    "\n",
    "x = str(input('Enter City : '))\n",
    "x=x.title()\n",
    "if x == 'Delhi':\n",
    "    print('Monument is Red Fort')\n",
    "elif x == 'Agra':\n",
    "    print('Monument is Taj Mahal')\n",
    "elif x == 'Jaipur':\n",
    "    print('Monument is Jal Mahal')\n",
    "else :\n",
    "    print('Monument is not known')"
   ]
  },
  {
   "cell_type": "code",
   "execution_count": null,
   "id": "d0744d78",
   "metadata": {},
   "outputs": [],
   "source": []
  }
 ],
 "metadata": {
  "kernelspec": {
   "display_name": "Python 3 (ipykernel)",
   "language": "python",
   "name": "python3"
  },
  "language_info": {
   "codemirror_mode": {
    "name": "ipython",
    "version": 3
   },
   "file_extension": ".py",
   "mimetype": "text/x-python",
   "name": "python",
   "nbconvert_exporter": "python",
   "pygments_lexer": "ipython3",
   "version": "3.9.12"
  }
 },
 "nbformat": 4,
 "nbformat_minor": 5
}
