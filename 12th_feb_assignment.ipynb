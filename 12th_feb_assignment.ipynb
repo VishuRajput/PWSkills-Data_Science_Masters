{
 "cells": [
  {
   "cell_type": "raw",
   "id": "106ae3b9",
   "metadata": {},
   "source": [
    "#Problem 1\n",
    "\n",
    "An exception is an event, which occurs during the execution of a program that disrupts the normal flow of the program's instructions. In general, when a Python script encounters a situation that it cannot cope with, it raises an exception. An exception is a Python object that represents an error.\n",
    "\n",
    "Exception                                   Syntax error\n",
    "It disrupts normal flow of program.         It stops the program from being executed and does not allow to complete the task.\n",
    "Even if syntax is corect, it may occur.     Without correct syntax program cannot be executed.\n",
    "\n",
    "Example : divisionbyzero error              Example : Indentation error"
   ]
  },
  {
   "cell_type": "code",
   "execution_count": 2,
   "id": "81a853f9",
   "metadata": {},
   "outputs": [
    {
     "name": "stdout",
     "output_type": "stream",
     "text": [
      "Goodbye, world!\n"
     ]
    },
    {
     "ename": "KeyboardInterrupt",
     "evalue": "",
     "output_type": "error",
     "traceback": [
      "\u001b[1;31m---------------------------------------------------------------------------\u001b[0m",
      "\u001b[1;31mKeyboardInterrupt\u001b[0m                         Traceback (most recent call last)",
      "Input \u001b[1;32mIn [2]\u001b[0m, in \u001b[0;36m<cell line: 7>\u001b[1;34m()\u001b[0m\n\u001b[0;32m      1\u001b[0m \u001b[38;5;66;03m#Problem 2\u001b[39;00m\n\u001b[0;32m      2\u001b[0m \n\u001b[0;32m      3\u001b[0m \u001b[38;5;66;03m#If an exception is not handled then it will return an error and will stop the execution or if there is a finally block then it #will go to the finally block.\u001b[39;00m\n\u001b[0;32m      4\u001b[0m \n\u001b[0;32m      5\u001b[0m \u001b[38;5;66;03m#Example:\u001b[39;00m\n\u001b[0;32m      7\u001b[0m \u001b[38;5;28;01mtry\u001b[39;00m:\n\u001b[1;32m----> 8\u001b[0m     \u001b[38;5;28;01mraise\u001b[39;00m \u001b[38;5;167;01mKeyboardInterrupt\u001b[39;00m\n\u001b[0;32m      9\u001b[0m \u001b[38;5;28;01mfinally\u001b[39;00m:\n\u001b[0;32m     10\u001b[0m     \u001b[38;5;28mprint\u001b[39m(\u001b[38;5;124m'\u001b[39m\u001b[38;5;124mGoodbye, world!\u001b[39m\u001b[38;5;124m'\u001b[39m)\n",
      "\u001b[1;31mKeyboardInterrupt\u001b[0m: "
     ]
    }
   ],
   "source": [
    "#Problem 2\n",
    "\n",
    "#If an exception is not handled then it will return an error and will stop the execution or if there is a finally block then it #will go to the finally block.\n",
    "\n",
    "#Example:\n",
    "\n",
    "try:\n",
    "    raise KeyboardInterrupt\n",
    "finally:\n",
    "    print('Goodbye, world!')\n"
   ]
  },
  {
   "cell_type": "code",
   "execution_count": 4,
   "id": "1eb2c1ae",
   "metadata": {},
   "outputs": [
    {
     "name": "stdout",
     "output_type": "stream",
     "text": [
      "This is my except block [Errno 2] No such file or directory: 'testing1.txt'\n"
     ]
    }
   ],
   "source": [
    "#Problem 3\n",
    "\n",
    "#try and else\n",
    "\n",
    "#It will check for an exception whether raised or not and if exception is not raised then it will execute the else block.\n",
    "\n",
    "try :\n",
    "    f = open('testing1.txt', 'r')\n",
    "    f.write('Writing in file')\n",
    "    \n",
    "except Exception as e:\n",
    "    print('This is my except block',e)\n",
    "else :\n",
    "    f.close()\n",
    "    print('this was my try block')"
   ]
  },
  {
   "cell_type": "code",
   "execution_count": 5,
   "id": "b2ac8821",
   "metadata": {},
   "outputs": [
    {
     "name": "stdout",
     "output_type": "stream",
     "text": [
      "This is my except block [Errno 2] No such file or directory: 'testing1.txt'\n",
      "finally will execute always\n"
     ]
    }
   ],
   "source": [
    "#Finally\n",
    "\n",
    "#It will execute no regards exception raised or not.\n",
    "\n",
    "try :\n",
    "    f = open('testing1.txt', 'r')\n",
    "    f.write('Writing in file')\n",
    "    \n",
    "except Exception as e:\n",
    "    print('This is my except block',e)\n",
    "else :\n",
    "    f.close()\n",
    "    print('this was my try block')\n",
    "finally:\n",
    "    print('finally will execute always')"
   ]
  },
  {
   "cell_type": "code",
   "execution_count": 6,
   "id": "ab9301b6",
   "metadata": {},
   "outputs": [
    {
     "name": "stdout",
     "output_type": "stream",
     "text": [
      "Enter age :34\n",
      "age is valid\n"
     ]
    }
   ],
   "source": [
    "#raise\n",
    "\n",
    "#It is used to define custom exceptions in pyhton.\n",
    "\n",
    "class validate_age(Exception):\n",
    "    \n",
    "    def __init__(self, msg):\n",
    "        self.msg=msg\n",
    "        \n",
    "def validateage(age):\n",
    "    if age<0:\n",
    "        raise validate_age('Entered age is invalid')\n",
    "    elif age>200:\n",
    "        raise validate_age('Entered age is high')\n",
    "    else:\n",
    "        print('age is valid')\n",
    "        \n",
    "try :\n",
    "    age =int(input('Enter age :'))\n",
    "    validateage(age)\n",
    "except validate_age as e:\n",
    "    print(e)"
   ]
  },
  {
   "cell_type": "code",
   "execution_count": 2,
   "id": "d5a22685",
   "metadata": {},
   "outputs": [
    {
     "name": "stdout",
     "output_type": "stream",
     "text": [
      "Enter Salary :35628\n",
      "Salary is valid\n"
     ]
    }
   ],
   "source": [
    "#Problem 5\n",
    "\n",
    "#Custom exceptions are used defined exception which we can declare for any custom error which may arrise in our code.\n",
    "#We need custom exceptions to because apart from the built in exceptions any new custom exception may encounter in program so we need a way to handle that as well.\n",
    "\n",
    "class validate_salary(Exception):\n",
    "    \n",
    "    def __init__(self, msg):\n",
    "        self.msg=msg\n",
    "        \n",
    "def validatesal(sal):\n",
    "    if sal<0:\n",
    "        raise validate_salary('Entered salary is invalid')\n",
    "    elif sal>200000:\n",
    "        raise validate_salary('Entered salary is high')\n",
    "    else:\n",
    "        print('Salary is valid')\n",
    "        \n",
    "try :\n",
    "    sal =int(input('Enter Salary :'))\n",
    "    validatesal(sal)\n",
    "except validate_salary as e:\n",
    "    print(e)"
   ]
  },
  {
   "cell_type": "code",
   "execution_count": 4,
   "id": "0d32ea05",
   "metadata": {},
   "outputs": [
    {
     "name": "stdout",
     "output_type": "stream",
     "text": [
      "Enter Price of product :73636\n"
     ]
    }
   ],
   "source": [
    "#Problem 6\n",
    "\n",
    "class price_check(Exception):\n",
    "    def __init__(self, msg):\n",
    "        self.msg=msg\n",
    "        \n",
    "def pricecheck(price):\n",
    "    if price<0:\n",
    "        raise price_check('Price cannot be negative.')\n",
    "    elif price>1000:\n",
    "        raise price_check('Price is too high')\n",
    "    else:\n",
    "        print('Price is good, proceed to buy.')\n",
    "        \n",
    "try:\n",
    "    price=int(input('Enter Price of product :'))\n",
    "    pricecheck(price)\n",
    "except price_check as e:\n",
    "    print(e)"
   ]
  },
  {
   "cell_type": "code",
   "execution_count": null,
   "id": "5c372ba1",
   "metadata": {},
   "outputs": [],
   "source": []
  }
 ],
 "metadata": {
  "kernelspec": {
   "display_name": "Python 3 (ipykernel)",
   "language": "python",
   "name": "python3"
  },
  "language_info": {
   "codemirror_mode": {
    "name": "ipython",
    "version": 3
   },
   "file_extension": ".py",
   "mimetype": "text/x-python",
   "name": "python",
   "nbconvert_exporter": "python",
   "pygments_lexer": "ipython3",
   "version": "3.9.12"
  }
 },
 "nbformat": 4,
 "nbformat_minor": 5
}
