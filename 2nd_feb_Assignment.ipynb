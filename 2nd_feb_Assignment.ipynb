{
 "cells": [
  {
   "cell_type": "code",
   "execution_count": 2,
   "id": "a95634a5",
   "metadata": {},
   "outputs": [
    {
     "data": {
      "text/plain": [
       "'\\nA \"For\" Loop is used to repeat a specific block of code a known number of times\\nWhen the number of times is not known before hand, we use a \"While\" loop.\\n\\nExample-\\n\\nif we want to check the grade of every student in the class, we loop from 1 to that number.\\n\\n'"
      ]
     },
     "execution_count": 2,
     "metadata": {},
     "output_type": "execute_result"
    }
   ],
   "source": [
    "#Problem 1\n",
    "\n",
    "'''A \"While\" Loop is used to repeat a specific block of code an unknown number of times, until a condition is met.\n",
    "If we know exactly how many times to execute a section of code, we use a for loop.\n",
    "\n",
    "Example-\n",
    "\n",
    "if we want to ask a user for a number between 1 and 10, we don't know how many times the user may enter a larger number,\n",
    "so we keep asking \"while the number is not between 1 and 10\"\n",
    "'''\n",
    "\n",
    "'''\n",
    "A \"For\" Loop is used to repeat a specific block of code a known number of times\n",
    "When the number of times is not known before hand, we use a \"While\" loop.\n",
    "\n",
    "Example-\n",
    "\n",
    "if we want to check the grade of every student in the class, we loop from 1 to that number.\n",
    "\n",
    "'''"
   ]
  },
  {
   "cell_type": "code",
   "execution_count": 3,
   "id": "edb3af3c",
   "metadata": {},
   "outputs": [
    {
     "name": "stdout",
     "output_type": "stream",
     "text": [
      "Using For loop\n",
      "Sum = 55 Product = 3628800\n",
      "\n",
      "Using While loop\n",
      "Sum = 55 Product = 3628800\n"
     ]
    }
   ],
   "source": [
    "#Problem 2\n",
    "\n",
    "#FOR LOOP\n",
    "\n",
    "s,p = 0,1\n",
    "for i in range(1,11):\n",
    "    s += i\n",
    "    p *= i\n",
    "\n",
    "print('Using For loop')\n",
    "print('Sum =',s,'Product =',p)\n",
    "\n",
    "#WHILE LOOP\n",
    "\n",
    "s,p = 0,1\n",
    "i=1\n",
    "while i<=10:\n",
    "    s +=i\n",
    "    p *=i\n",
    "    i +=1\n",
    "    \n",
    "print('\\nUsing While loop')\n",
    "print('Sum =',s,'Product =',p)"
   ]
  },
  {
   "cell_type": "code",
   "execution_count": 7,
   "id": "b43dee46",
   "metadata": {},
   "outputs": [
    {
     "name": "stdout",
     "output_type": "stream",
     "text": [
      "Enter the Units consumed : 310\n",
      "Total Bill is  2250.0\n"
     ]
    }
   ],
   "source": [
    "#Problem 3\n",
    "\n",
    "n=int(input('Enter the Units consumed : '))\n",
    "\n",
    "tot =0\n",
    "\n",
    "if n>=100:\n",
    "    tot += (100*4.5)\n",
    "    rem = n-100\n",
    "    \n",
    "    if rem>=100:\n",
    "        tot += (100*6)\n",
    "        rem2=rem - 100\n",
    "        \n",
    "        if rem2>=100:\n",
    "            tot += (100*10)\n",
    "            rem3=rem2 - 100\n",
    "            \n",
    "            if rem3>0:\n",
    "                tot += (rem3*20)\n",
    "                \n",
    "        else:\n",
    "            tot += (rem2*10)\n",
    "            \n",
    "    else: \n",
    "        tot += (rem*6)\n",
    "        \n",
    "else:\n",
    "    tot += (n*4.5)\n",
    "    \n",
    "print('Total Bill is ',tot)\n",
    "        "
   ]
  },
  {
   "cell_type": "code",
   "execution_count": 9,
   "id": "643ff99e",
   "metadata": {},
   "outputs": [
    {
     "name": "stdout",
     "output_type": "stream",
     "text": [
      "FOR LOOP\n",
      "[2, 4, 5, 6, 8, 10, 12, 14, 15, 16, 18, 20, 22, 24, 25, 26, 28, 30, 32, 34, 35, 36, 38, 40, 42, 44, 45, 46, 48, 50, 52, 54, 55, 56, 58, 60, 62, 64, 65, 66, 68, 70, 72, 74, 75, 76, 78, 80, 82, 84, 85, 86, 88, 90, 92, 94, 95, 96, 98, 100]\n",
      "\n",
      "WHILE LOOP\n"
     ]
    }
   ],
   "source": [
    "#Problem 4\n",
    "\n",
    "l=list(range(1,101))\n",
    "cub=lambda x:x**3\n",
    "l1=[]\n",
    "l2=[]\n",
    "\n",
    "print('FOR LOOP')\n",
    "\n",
    "for i in l:\n",
    "    if cub(i)%4==0 or cub(i)%5==0:\n",
    "        l1.append(i)\n",
    "        \n",
    "print(l1, end= '')\n",
    "\n",
    "print('\\n\\nWHILE LOOP')\n",
    "\n",
    "\n"
   ]
  },
  {
   "cell_type": "code",
   "execution_count": null,
   "id": "f4b57937",
   "metadata": {},
   "outputs": [],
   "source": []
  }
 ],
 "metadata": {
  "kernelspec": {
   "display_name": "Python 3 (ipykernel)",
   "language": "python",
   "name": "python3"
  },
  "language_info": {
   "codemirror_mode": {
    "name": "ipython",
    "version": 3
   },
   "file_extension": ".py",
   "mimetype": "text/x-python",
   "name": "python",
   "nbconvert_exporter": "python",
   "pygments_lexer": "ipython3",
   "version": "3.9.12"
  }
 },
 "nbformat": 4,
 "nbformat_minor": 5
}
